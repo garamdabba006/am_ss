{
 "cells": [
  {
   "cell_type": "markdown",
   "id": "52e7ce76",
   "metadata": {},
   "source": [
    "# INTRODUCTION TO NLP"
   ]
  },
  {
   "cell_type": "markdown",
   "id": "46091ac4",
   "metadata": {},
   "source": [
    "## SESSION 6:"
   ]
  },
  {
   "cell_type": "markdown",
   "id": "9a2c9b1c",
   "metadata": {},
   "source": [
    "## Vectorisation of tokens and similarity of documents"
   ]
  },
  {
   "cell_type": "markdown",
   "id": "e7908e87",
   "metadata": {},
   "source": [
    "Vectorization of tokens refers to the process of converting text data into a numerical format that can be used as input for machine learning algorithms. In natural language processing, vectorization is commonly used to represent each word in a document as a vector of numbers, based on its frequency, context, or other linguistic properties."
   ]
  },
  {
   "cell_type": "markdown",
   "id": "ef00e38f",
   "metadata": {},
   "source": [
    " it is done for: Numerical representation, Dimensionality reduction, Document classification, Information retrieval"
   ]
  },
  {
   "cell_type": "code",
   "execution_count": 301,
   "id": "685483f3",
   "metadata": {},
   "outputs": [],
   "source": [
    "# !pip install gensim\n",
    "\n",
    "import gensim\n",
    "import spacy\n",
    "nlp=spacy.load('en_core_web_sm')"
   ]
  },
  {
   "cell_type": "markdown",
   "id": "85bb5d54",
   "metadata": {},
   "source": [
    "## Create a list of texts"
   ]
  },
  {
   "cell_type": "code",
   "execution_count": 302,
   "id": "cfb86b14",
   "metadata": {},
   "outputs": [],
   "source": [
    "doc_1='''Chat GPT is a highly popular AI-based program that people use for generating dialogues. The chatbot has a language-based model that the developer fine-tunes for human interaction in a conversational manner. \n",
    "It’s a simulated chatbot primarily designed for customer service; people use it for various other purposes. But what is it? If you are new to this Chat GPT, this guide is for you, so continue reading. \n",
    "What’s Chat GPT?\n",
    "Chat GPT is an AI chatbot auto-generative system created by Open AI for online customer care. It is a pre-trained generative chat, which makes use of (NLP) Natural Language Processing. The source of its data is textbooks, websites, and various articles, which it uses to model its own language for responding to human interaction.'''"
   ]
  },
  {
   "cell_type": "code",
   "execution_count": 303,
   "id": "a9d3b837",
   "metadata": {},
   "outputs": [],
   "source": [
    "doc_2='''What is Chat GPT and why is everyone talking about it? On Twitter, blogs, and at the office, Chat GPT has taken over the conversation in marketing. However, not everyone is a fan.\n",
    "So what is Chat GPT? Who better to ask than Chat GPT itself? \n",
    "ChatGPT is a variant of the GPT (Generative Pre-training Transformer) language model specifically designed for generating text in a chatbot-like manner. It is trained on a large dataset of human-human conversations and can generate natural language responses to input prompts.\n",
    "In other words, it is a smart AI technology that will spit out factual, informative and well-written responses to given prompts. The technology presents endless potential with many applications to marketing including customer service, eCommerce, entertainment, resourcing and more! Along with these benefits, many professionals are questioning what such a helpful tool means for working freelancers and industry professionals.'''"
   ]
  },
  {
   "cell_type": "code",
   "execution_count": 304,
   "id": "9c73accd",
   "metadata": {},
   "outputs": [],
   "source": [
    "doc_3='''ChatGPT is a large language learning model that was designed to imitate human conversation. It can remember things you have said to it in the past and is capable of correcting itself when wrong.\n",
    "It writes in a human-like way and has a wealth of knowledge because it was trained on all sorts of text from the internet, such as Wikipedia, blog posts, books, and academic articles.\n",
    "It's easy to learn how to use ChatGPT, but what is more challenging is finding out what its biggest problems are. Here are some that are worth knowing about.\n",
    "1. ChatGPT Isn't Always Right\n",
    "It fails at basic math, can't seem to answer simple logic questions, and will even go as far as to argue completely incorrect facts. As social media users can attest, ChatGPT can get it wrong on more than one occasion.'''"
   ]
  },
  {
   "cell_type": "code",
   "execution_count": 305,
   "id": "7a8adc1b",
   "metadata": {},
   "outputs": [],
   "source": [
    "doc_4='''Texting, chatting and online messaging can be used for much more than simply communicating with your friends. Online communication can help young people build and develop social skills and gives them a platform to share their skills and help each other out.\n",
    "Messaging and texting are among the most popular methods of communication among children and teenagers. A study by Common Sense Media in 2018 found that 70% of teenagers report using social media multiple times a day.\n",
    "Messaging and texting can be much more than ways to communicate. They can also be tools that help young people learn and master important skills.'''"
   ]
  },
  {
   "cell_type": "code",
   "execution_count": 306,
   "id": "91f8975a",
   "metadata": {},
   "outputs": [],
   "source": [
    "# Creating the list\n",
    "\n",
    "docs=[doc_1,doc_2,doc_3,doc_4]"
   ]
  },
  {
   "cell_type": "code",
   "execution_count": 307,
   "id": "2003cad6",
   "metadata": {},
   "outputs": [
    {
     "name": "stdout",
     "output_type": "stream",
     "text": [
      "['Chat GPT is a highly popular AI-based program that people use for generating dialogues. The chatbot has a language-based model that the developer fine-tunes for human interaction in a conversational manner. \\nIt’s a simulated chatbot primarily designed for customer service; people use it for various other purposes. But what is it? If you are new to this Chat GPT, this guide is for you, so continue reading. \\nWhat’s Chat GPT?\\nChat GPT is an AI chatbot auto-generative system created by Open AI for online customer care. It is a pre-trained generative chat, which makes use of (NLP) Natural Language Processing. The source of its data is textbooks, websites, and various articles, which it uses to model its own language for responding to human interaction.', 'What is Chat GPT and why is everyone talking about it? On Twitter, blogs, and at the office, Chat GPT has taken over the conversation in marketing. However, not everyone is a fan.\\nSo what is Chat GPT? Who better to ask than Chat GPT itself? \\nChatGPT is a variant of the GPT (Generative Pre-training Transformer) language model specifically designed for generating text in a chatbot-like manner. It is trained on a large dataset of human-human conversations and can generate natural language responses to input prompts.\\nIn other words, it is a smart AI technology that will spit out factual, informative and well-written responses to given prompts. The technology presents endless potential with many applications to marketing including customer service, eCommerce, entertainment, resourcing and more! Along with these benefits, many professionals are questioning what such a helpful tool means for working freelancers and industry professionals.', \"ChatGPT is a large language learning model that was designed to imitate human conversation. It can remember things you have said to it in the past and is capable of correcting itself when wrong.\\nIt writes in a human-like way and has a wealth of knowledge because it was trained on all sorts of text from the internet, such as Wikipedia, blog posts, books, and academic articles.\\nIt's easy to learn how to use ChatGPT, but what is more challenging is finding out what its biggest problems are. Here are some that are worth knowing about.\\n1. ChatGPT Isn't Always Right\\nIt fails at basic math, can't seem to answer simple logic questions, and will even go as far as to argue completely incorrect facts. As social media users can attest, ChatGPT can get it wrong on more than one occasion.\", 'Texting, chatting and online messaging can be used for much more than simply communicating with your friends. Online communication can help young people build and develop social skills and gives them a platform to share their skills and help each other out.\\nMessaging and texting are among the most popular methods of communication among children and teenagers. A study by Common Sense Media in 2018 found that 70% of teenagers report using social media multiple times a day.\\nMessaging and texting can be much more than ways to communicate. They can also be tools that help young people learn and master important skills.']\n"
     ]
    }
   ],
   "source": [
    "print(docs)"
   ]
  },
  {
   "cell_type": "markdown",
   "id": "727698e7",
   "metadata": {},
   "source": [
    "## Choosing the tokens"
   ]
  },
  {
   "cell_type": "code",
   "execution_count": 308,
   "id": "3d6a0ba5",
   "metadata": {},
   "outputs": [],
   "source": [
    "texts=[]# List of all tokens\n",
    "for document in docs:\n",
    "    doc=nlp(document)\n",
    "    text=[] # List of tokens in the document\n",
    "    for token in doc:\n",
    "        if not token.is_stop and not token.is_punct and not token.like_num:\n",
    "            text.append(token.lemma_)\n",
    "    texts.append(text)"
   ]
  },
  {
   "cell_type": "code",
   "execution_count": 309,
   "id": "d0bdb3f6",
   "metadata": {},
   "outputs": [],
   "source": [
    "# Preprocessing is done, given by sir or remove stop words etc\n",
    "# do for all possible preprocessing"
   ]
  },
  {
   "cell_type": "code",
   "execution_count": 310,
   "id": "90909647",
   "metadata": {},
   "outputs": [
    {
     "name": "stdout",
     "output_type": "stream",
     "text": [
      "[['Chat', 'GPT', 'highly', 'popular', 'AI', 'base', 'program', 'people', 'use', 'generating', 'dialogue', 'chatbot', 'language', 'base', 'model', 'developer', 'fine', 'tune', 'human', 'interaction', 'conversational', 'manner', '\\n', 'simulated', 'chatbot', 'primarily', 'design', 'customer', 'service', 'people', 'use', 'purpose', 'new', 'Chat', 'GPT', 'guide', 'continue', 'read', '\\n', 'Chat', 'GPT', '\\n', 'Chat', 'GPT', 'AI', 'chatbot', 'auto', 'generative', 'system', 'create', 'Open', 'AI', 'online', 'customer', 'care', 'pre', 'train', 'generative', 'chat', 'make', 'use', 'NLP', 'Natural', 'Language', 'Processing', 'source', 'data', 'textbook', 'website', 'article', 'use', 'model', 'language', 'respond', 'human', 'interaction'], ['Chat', 'GPT', 'talk', 'Twitter', 'blog', 'office', 'Chat', 'GPT', 'take', 'conversation', 'marketing', 'fan', '\\n', 'Chat', 'GPT', 'well', 'ask', 'Chat', 'GPT', '\\n', 'ChatGPT', 'variant', 'GPT', 'Generative', 'pre', 'training', 'Transformer', 'language', 'model', 'specifically', 'design', 'generate', 'text', 'chatbot', 'like', 'manner', 'train', 'large', 'dataset', 'human', 'human', 'conversation', 'generate', 'natural', 'language', 'response', 'input', 'prompt', '\\n', 'word', 'smart', 'AI', 'technology', 'spit', 'factual', 'informative', 'write', 'response', 'give', 'prompt', 'technology', 'present', 'endless', 'potential', 'application', 'marketing', 'include', 'customer', 'service', 'eCommerce', 'entertainment', 'resource', 'benefit', 'professional', 'question', 'helpful', 'tool', 'mean', 'work', 'freelancer', 'industry', 'professional'], ['ChatGPT', 'large', 'language', 'learning', 'model', 'design', 'imitate', 'human', 'conversation', 'remember', 'thing', 'say', 'past', 'capable', 'correct', 'wrong', '\\n', 'write', 'human', 'like', 'way', 'wealth', 'knowledge', 'train', 'sort', 'text', 'internet', 'Wikipedia', 'blog', 'post', 'book', 'academic', 'article', '\\n', 'easy', 'learn', 'use', 'chatgpt', 'challenging', 'find', 'big', 'problem', 'worth', 'know', '\\n', 'chatgpt', 'right', '\\n', 'fail', 'basic', 'math', 'answer', 'simple', 'logic', 'question', 'far', 'argue', 'completely', 'incorrect', 'fact', 'social', 'medium', 'user', 'attest', 'ChatGPT', 'wrong', 'occasion'], ['texting', 'chat', 'online', 'messaging', 'simply', 'communicate', 'friend', 'online', 'communication', 'help', 'young', 'people', 'build', 'develop', 'social', 'skill', 'give', 'platform', 'share', 'skill', 'help', '\\n', 'messaging', 'texting', 'popular', 'method', 'communication', 'child', 'teenager', 'study', 'Common', 'Sense', 'medium', 'find', 'teenager', 'report', 'social', 'medium', 'multiple', 'time', 'day', '\\n', 'messaging', 'texting', 'way', 'communicate', 'tool', 'help', 'young', 'people', 'learn', 'master', 'important', 'skill']]\n"
     ]
    }
   ],
   "source": [
    "print(texts)"
   ]
  },
  {
   "cell_type": "code",
   "execution_count": 312,
   "id": "30310422",
   "metadata": {},
   "outputs": [],
   "source": [
    "# convert this list later into nlp doc using pipe"
   ]
  },
  {
   "cell_type": "code",
   "execution_count": 313,
   "id": "c68c1e3c",
   "metadata": {},
   "outputs": [
    {
     "name": "stdout",
     "output_type": "stream",
     "text": [
      "4\n"
     ]
    }
   ],
   "source": [
    "print(len(texts))"
   ]
  },
  {
   "cell_type": "code",
   "execution_count": 314,
   "id": "ddce042c",
   "metadata": {},
   "outputs": [
    {
     "name": "stdout",
     "output_type": "stream",
     "text": [
      "76\n"
     ]
    }
   ],
   "source": [
    "print(len(texts[0]))"
   ]
  },
  {
   "cell_type": "code",
   "execution_count": 315,
   "id": "14df236a",
   "metadata": {},
   "outputs": [
    {
     "name": "stdout",
     "output_type": "stream",
     "text": [
      "82\n"
     ]
    }
   ],
   "source": [
    "print(len(texts[1]))"
   ]
  },
  {
   "cell_type": "code",
   "execution_count": 316,
   "id": "cf68d71e",
   "metadata": {},
   "outputs": [
    {
     "name": "stdout",
     "output_type": "stream",
     "text": [
      "67\n"
     ]
    }
   ],
   "source": [
    "print(len(texts[2]))"
   ]
  },
  {
   "cell_type": "code",
   "execution_count": 317,
   "id": "54194e62",
   "metadata": {},
   "outputs": [
    {
     "name": "stdout",
     "output_type": "stream",
     "text": [
      "54\n"
     ]
    }
   ],
   "source": [
    "print(len(texts[3]))"
   ]
  },
  {
   "cell_type": "markdown",
   "id": "c94972b1",
   "metadata": {},
   "source": [
    "## Creation of a corpus\n",
    "\n",
    "Corpus is a collection of tokens in a dictionary format.\n",
    "\n",
    "In NLP, a corpus is often represented as a collection of tokens in a dictionary format, where each token corresponds to a word or phrase in the text, and its value is a numerical representation of its frequency or other linguistic property."
   ]
  },
  {
   "cell_type": "code",
   "execution_count": 321,
   "id": "0fd36851",
   "metadata": {},
   "outputs": [
    {
     "name": "stdout",
     "output_type": "stream",
     "text": [
      "Dictionary(172 unique tokens: ['\\n', 'AI', 'Chat', 'GPT', 'Language']...)\n"
     ]
    }
   ],
   "source": [
    "from gensim.corpora import Dictionary # from class corpus of gensim\n",
    "\n",
    "dict_1=Dictionary(texts)\n",
    "print(dict_1)"
   ]
  },
  {
   "cell_type": "code",
   "execution_count": 322,
   "id": "43432d31",
   "metadata": {},
   "outputs": [],
   "source": [
    "# Will give unique token"
   ]
  },
  {
   "cell_type": "code",
   "execution_count": 323,
   "id": "8491f5f7",
   "metadata": {},
   "outputs": [],
   "source": [
    "# Dict_1 is a corpus that contains tokens in dictionary format"
   ]
  },
  {
   "cell_type": "markdown",
   "id": "ba843d4e",
   "metadata": {},
   "source": [
    "## Giving an ID to each token"
   ]
  },
  {
   "cell_type": "code",
   "execution_count": 324,
   "id": "283f45cc",
   "metadata": {},
   "outputs": [
    {
     "name": "stdout",
     "output_type": "stream",
     "text": [
      "{'\\n': 0, 'AI': 1, 'Chat': 2, 'GPT': 3, 'Language': 4, 'NLP': 5, 'Natural': 6, 'Open': 7, 'Processing': 8, 'article': 9, 'auto': 10, 'base': 11, 'care': 12, 'chat': 13, 'chatbot': 14, 'continue': 15, 'conversational': 16, 'create': 17, 'customer': 18, 'data': 19, 'design': 20, 'developer': 21, 'dialogue': 22, 'fine': 23, 'generating': 24, 'generative': 25, 'guide': 26, 'highly': 27, 'human': 28, 'interaction': 29, 'language': 30, 'make': 31, 'manner': 32, 'model': 33, 'new': 34, 'online': 35, 'people': 36, 'popular': 37, 'pre': 38, 'primarily': 39, 'program': 40, 'purpose': 41, 'read': 42, 'respond': 43, 'service': 44, 'simulated': 45, 'source': 46, 'system': 47, 'textbook': 48, 'train': 49, 'tune': 50, 'use': 51, 'website': 52, 'ChatGPT': 53, 'Generative': 54, 'Transformer': 55, 'Twitter': 56, 'application': 57, 'ask': 58, 'benefit': 59, 'blog': 60, 'conversation': 61, 'dataset': 62, 'eCommerce': 63, 'endless': 64, 'entertainment': 65, 'factual': 66, 'fan': 67, 'freelancer': 68, 'generate': 69, 'give': 70, 'helpful': 71, 'include': 72, 'industry': 73, 'informative': 74, 'input': 75, 'large': 76, 'like': 77, 'marketing': 78, 'mean': 79, 'natural': 80, 'office': 81, 'potential': 82, 'present': 83, 'professional': 84, 'prompt': 85, 'question': 86, 'resource': 87, 'response': 88, 'smart': 89, 'specifically': 90, 'spit': 91, 'take': 92, 'talk': 93, 'technology': 94, 'text': 95, 'tool': 96, 'training': 97, 'variant': 98, 'well': 99, 'word': 100, 'work': 101, 'write': 102, 'Wikipedia': 103, 'academic': 104, 'answer': 105, 'argue': 106, 'attest': 107, 'basic': 108, 'big': 109, 'book': 110, 'capable': 111, 'challenging': 112, 'chatgpt': 113, 'completely': 114, 'correct': 115, 'easy': 116, 'fact': 117, 'fail': 118, 'far': 119, 'find': 120, 'imitate': 121, 'incorrect': 122, 'internet': 123, 'know': 124, 'knowledge': 125, 'learn': 126, 'learning': 127, 'logic': 128, 'math': 129, 'medium': 130, 'occasion': 131, 'past': 132, 'post': 133, 'problem': 134, 'remember': 135, 'right': 136, 'say': 137, 'simple': 138, 'social': 139, 'sort': 140, 'thing': 141, 'user': 142, 'way': 143, 'wealth': 144, 'worth': 145, 'wrong': 146, 'Common': 147, 'Sense': 148, 'build': 149, 'child': 150, 'communicate': 151, 'communication': 152, 'day': 153, 'develop': 154, 'friend': 155, 'help': 156, 'important': 157, 'master': 158, 'messaging': 159, 'method': 160, 'multiple': 161, 'platform': 162, 'report': 163, 'share': 164, 'simply': 165, 'skill': 166, 'study': 167, 'teenager': 168, 'texting': 169, 'time': 170, 'young': 171}\n"
     ]
    }
   ],
   "source": [
    "print(dict_1.token2id)"
   ]
  },
  {
   "cell_type": "code",
   "execution_count": 325,
   "id": "28a36844",
   "metadata": {},
   "outputs": [],
   "source": [
    "# Created a unique value and dictionary"
   ]
  },
  {
   "cell_type": "code",
   "execution_count": 326,
   "id": "7544d6bf",
   "metadata": {},
   "outputs": [
    {
     "name": "stdout",
     "output_type": "stream",
     "text": [
      "172\n"
     ]
    }
   ],
   "source": [
    "print(len(dict_1))"
   ]
  },
  {
   "cell_type": "markdown",
   "id": "c06fd358",
   "metadata": {},
   "source": [
    "## Bag of words"
   ]
  },
  {
   "cell_type": "markdown",
   "id": "ac757f2f",
   "metadata": {},
   "source": [
    "The bag-of-words model is a technique used in natural language processing and information retrieval to represent text data as a collection of words or tokens. In this model, a text is represented as a bag (multiset) of its words, disregarding grammar, word order, and context, but keeping track of their frequency."
   ]
  },
  {
   "cell_type": "code",
   "execution_count": 328,
   "id": "e663fa51",
   "metadata": {},
   "outputs": [],
   "source": [
    "# To make bag of words we need to first do tokenization and vectorization"
   ]
  },
  {
   "cell_type": "code",
   "execution_count": 329,
   "id": "ab7a99be",
   "metadata": {},
   "outputs": [],
   "source": [
    "bow_vec=[]\n",
    "for token in texts:\n",
    "    bow_vec.append(dict_1.doc2bow(token))"
   ]
  },
  {
   "cell_type": "code",
   "execution_count": 330,
   "id": "0c0e3826",
   "metadata": {},
   "outputs": [
    {
     "name": "stdout",
     "output_type": "stream",
     "text": [
      "[[(0, 3), (1, 3), (2, 4), (3, 4), (4, 1), (5, 1), (6, 1), (7, 1), (8, 1), (9, 1), (10, 1), (11, 2), (12, 1), (13, 1), (14, 3), (15, 1), (16, 1), (17, 1), (18, 2), (19, 1), (20, 1), (21, 1), (22, 1), (23, 1), (24, 1), (25, 2), (26, 1), (27, 1), (28, 2), (29, 2), (30, 2), (31, 1), (32, 1), (33, 2), (34, 1), (35, 1), (36, 2), (37, 1), (38, 1), (39, 1), (40, 1), (41, 1), (42, 1), (43, 1), (44, 1), (45, 1), (46, 1), (47, 1), (48, 1), (49, 1), (50, 1), (51, 4), (52, 1)], [(0, 3), (1, 1), (2, 4), (3, 5), (14, 1), (18, 1), (20, 1), (28, 2), (30, 2), (32, 1), (33, 1), (38, 1), (44, 1), (49, 1), (53, 1), (54, 1), (55, 1), (56, 1), (57, 1), (58, 1), (59, 1), (60, 1), (61, 2), (62, 1), (63, 1), (64, 1), (65, 1), (66, 1), (67, 1), (68, 1), (69, 2), (70, 1), (71, 1), (72, 1), (73, 1), (74, 1), (75, 1), (76, 1), (77, 1), (78, 2), (79, 1), (80, 1), (81, 1), (82, 1), (83, 1), (84, 2), (85, 2), (86, 1), (87, 1), (88, 2), (89, 1), (90, 1), (91, 1), (92, 1), (93, 1), (94, 2), (95, 1), (96, 1), (97, 1), (98, 1), (99, 1), (100, 1), (101, 1), (102, 1)], [(0, 4), (9, 1), (20, 1), (28, 2), (30, 1), (33, 1), (49, 1), (51, 1), (53, 2), (60, 1), (61, 1), (76, 1), (77, 1), (86, 1), (95, 1), (102, 1), (103, 1), (104, 1), (105, 1), (106, 1), (107, 1), (108, 1), (109, 1), (110, 1), (111, 1), (112, 1), (113, 2), (114, 1), (115, 1), (116, 1), (117, 1), (118, 1), (119, 1), (120, 1), (121, 1), (122, 1), (123, 1), (124, 1), (125, 1), (126, 1), (127, 1), (128, 1), (129, 1), (130, 1), (131, 1), (132, 1), (133, 1), (134, 1), (135, 1), (136, 1), (137, 1), (138, 1), (139, 1), (140, 1), (141, 1), (142, 1), (143, 1), (144, 1), (145, 1), (146, 2)], [(0, 2), (13, 1), (35, 2), (36, 2), (37, 1), (70, 1), (96, 1), (120, 1), (126, 1), (130, 2), (139, 2), (143, 1), (147, 1), (148, 1), (149, 1), (150, 1), (151, 2), (152, 2), (153, 1), (154, 1), (155, 1), (156, 3), (157, 1), (158, 1), (159, 3), (160, 1), (161, 1), (162, 1), (163, 1), (164, 1), (165, 1), (166, 3), (167, 1), (168, 2), (169, 3), (170, 1), (171, 2)]]\n"
     ]
    }
   ],
   "source": [
    "print(bow_vec)"
   ]
  },
  {
   "cell_type": "code",
   "execution_count": 331,
   "id": "f9a54662",
   "metadata": {},
   "outputs": [],
   "source": [
    "# Kitni baar a word is coming for a particular ID"
   ]
  },
  {
   "cell_type": "code",
   "execution_count": 347,
   "id": "8348105a",
   "metadata": {},
   "outputs": [],
   "source": [
    "# the token with has id 0, is repeated 3 times ---> interpretation of 1st bracket"
   ]
  },
  {
   "cell_type": "markdown",
   "id": "b77dffa8",
   "metadata": {},
   "source": [
    "## Creating BOW Matrix"
   ]
  },
  {
   "cell_type": "code",
   "execution_count": 332,
   "id": "07eefb9a",
   "metadata": {},
   "outputs": [],
   "source": [
    "from gensim.matutils import corpus2dense\n",
    "\n",
    "bow_matrix=corpus2dense(bow_vec,num_terms=len(dict_1))"
   ]
  },
  {
   "cell_type": "code",
   "execution_count": 333,
   "id": "80ee8fa4",
   "metadata": {},
   "outputs": [
    {
     "name": "stdout",
     "output_type": "stream",
     "text": [
      "[[3. 3. 4. 2.]\n",
      " [3. 1. 0. 0.]\n",
      " [4. 4. 0. 0.]\n",
      " [4. 5. 0. 0.]\n",
      " [1. 0. 0. 0.]\n",
      " [1. 0. 0. 0.]\n",
      " [1. 0. 0. 0.]\n",
      " [1. 0. 0. 0.]\n",
      " [1. 0. 0. 0.]\n",
      " [1. 0. 1. 0.]\n",
      " [1. 0. 0. 0.]\n",
      " [2. 0. 0. 0.]\n",
      " [1. 0. 0. 0.]\n",
      " [1. 0. 0. 1.]\n",
      " [3. 1. 0. 0.]\n",
      " [1. 0. 0. 0.]\n",
      " [1. 0. 0. 0.]\n",
      " [1. 0. 0. 0.]\n",
      " [2. 1. 0. 0.]\n",
      " [1. 0. 0. 0.]\n",
      " [1. 1. 1. 0.]\n",
      " [1. 0. 0. 0.]\n",
      " [1. 0. 0. 0.]\n",
      " [1. 0. 0. 0.]\n",
      " [1. 0. 0. 0.]\n",
      " [2. 0. 0. 0.]\n",
      " [1. 0. 0. 0.]\n",
      " [1. 0. 0. 0.]\n",
      " [2. 2. 2. 0.]\n",
      " [2. 0. 0. 0.]\n",
      " [2. 2. 1. 0.]\n",
      " [1. 0. 0. 0.]\n",
      " [1. 1. 0. 0.]\n",
      " [2. 1. 1. 0.]\n",
      " [1. 0. 0. 0.]\n",
      " [1. 0. 0. 2.]\n",
      " [2. 0. 0. 2.]\n",
      " [1. 0. 0. 1.]\n",
      " [1. 1. 0. 0.]\n",
      " [1. 0. 0. 0.]\n",
      " [1. 0. 0. 0.]\n",
      " [1. 0. 0. 0.]\n",
      " [1. 0. 0. 0.]\n",
      " [1. 0. 0. 0.]\n",
      " [1. 1. 0. 0.]\n",
      " [1. 0. 0. 0.]\n",
      " [1. 0. 0. 0.]\n",
      " [1. 0. 0. 0.]\n",
      " [1. 0. 0. 0.]\n",
      " [1. 1. 1. 0.]\n",
      " [1. 0. 0. 0.]\n",
      " [4. 0. 1. 0.]\n",
      " [1. 0. 0. 0.]\n",
      " [0. 1. 2. 0.]\n",
      " [0. 1. 0. 0.]\n",
      " [0. 1. 0. 0.]\n",
      " [0. 1. 0. 0.]\n",
      " [0. 1. 0. 0.]\n",
      " [0. 1. 0. 0.]\n",
      " [0. 1. 0. 0.]\n",
      " [0. 1. 1. 0.]\n",
      " [0. 2. 1. 0.]\n",
      " [0. 1. 0. 0.]\n",
      " [0. 1. 0. 0.]\n",
      " [0. 1. 0. 0.]\n",
      " [0. 1. 0. 0.]\n",
      " [0. 1. 0. 0.]\n",
      " [0. 1. 0. 0.]\n",
      " [0. 1. 0. 0.]\n",
      " [0. 2. 0. 0.]\n",
      " [0. 1. 0. 1.]\n",
      " [0. 1. 0. 0.]\n",
      " [0. 1. 0. 0.]\n",
      " [0. 1. 0. 0.]\n",
      " [0. 1. 0. 0.]\n",
      " [0. 1. 0. 0.]\n",
      " [0. 1. 1. 0.]\n",
      " [0. 1. 1. 0.]\n",
      " [0. 2. 0. 0.]\n",
      " [0. 1. 0. 0.]\n",
      " [0. 1. 0. 0.]\n",
      " [0. 1. 0. 0.]\n",
      " [0. 1. 0. 0.]\n",
      " [0. 1. 0. 0.]\n",
      " [0. 2. 0. 0.]\n",
      " [0. 2. 0. 0.]\n",
      " [0. 1. 1. 0.]\n",
      " [0. 1. 0. 0.]\n",
      " [0. 2. 0. 0.]\n",
      " [0. 1. 0. 0.]\n",
      " [0. 1. 0. 0.]\n",
      " [0. 1. 0. 0.]\n",
      " [0. 1. 0. 0.]\n",
      " [0. 1. 0. 0.]\n",
      " [0. 2. 0. 0.]\n",
      " [0. 1. 1. 0.]\n",
      " [0. 1. 0. 1.]\n",
      " [0. 1. 0. 0.]\n",
      " [0. 1. 0. 0.]\n",
      " [0. 1. 0. 0.]\n",
      " [0. 1. 0. 0.]\n",
      " [0. 1. 0. 0.]\n",
      " [0. 1. 1. 0.]\n",
      " [0. 0. 1. 0.]\n",
      " [0. 0. 1. 0.]\n",
      " [0. 0. 1. 0.]\n",
      " [0. 0. 1. 0.]\n",
      " [0. 0. 1. 0.]\n",
      " [0. 0. 1. 0.]\n",
      " [0. 0. 1. 0.]\n",
      " [0. 0. 1. 0.]\n",
      " [0. 0. 1. 0.]\n",
      " [0. 0. 1. 0.]\n",
      " [0. 0. 2. 0.]\n",
      " [0. 0. 1. 0.]\n",
      " [0. 0. 1. 0.]\n",
      " [0. 0. 1. 0.]\n",
      " [0. 0. 1. 0.]\n",
      " [0. 0. 1. 0.]\n",
      " [0. 0. 1. 0.]\n",
      " [0. 0. 1. 1.]\n",
      " [0. 0. 1. 0.]\n",
      " [0. 0. 1. 0.]\n",
      " [0. 0. 1. 0.]\n",
      " [0. 0. 1. 0.]\n",
      " [0. 0. 1. 0.]\n",
      " [0. 0. 1. 1.]\n",
      " [0. 0. 1. 0.]\n",
      " [0. 0. 1. 0.]\n",
      " [0. 0. 1. 0.]\n",
      " [0. 0. 1. 2.]\n",
      " [0. 0. 1. 0.]\n",
      " [0. 0. 1. 0.]\n",
      " [0. 0. 1. 0.]\n",
      " [0. 0. 1. 0.]\n",
      " [0. 0. 1. 0.]\n",
      " [0. 0. 1. 0.]\n",
      " [0. 0. 1. 0.]\n",
      " [0. 0. 1. 0.]\n",
      " [0. 0. 1. 2.]\n",
      " [0. 0. 1. 0.]\n",
      " [0. 0. 1. 0.]\n",
      " [0. 0. 1. 0.]\n",
      " [0. 0. 1. 1.]\n",
      " [0. 0. 1. 0.]\n",
      " [0. 0. 1. 0.]\n",
      " [0. 0. 2. 0.]\n",
      " [0. 0. 0. 1.]\n",
      " [0. 0. 0. 1.]\n",
      " [0. 0. 0. 1.]\n",
      " [0. 0. 0. 1.]\n",
      " [0. 0. 0. 2.]\n",
      " [0. 0. 0. 2.]\n",
      " [0. 0. 0. 1.]\n",
      " [0. 0. 0. 1.]\n",
      " [0. 0. 0. 1.]\n",
      " [0. 0. 0. 3.]\n",
      " [0. 0. 0. 1.]\n",
      " [0. 0. 0. 1.]\n",
      " [0. 0. 0. 3.]\n",
      " [0. 0. 0. 1.]\n",
      " [0. 0. 0. 1.]\n",
      " [0. 0. 0. 1.]\n",
      " [0. 0. 0. 1.]\n",
      " [0. 0. 0. 1.]\n",
      " [0. 0. 0. 1.]\n",
      " [0. 0. 0. 3.]\n",
      " [0. 0. 0. 1.]\n",
      " [0. 0. 0. 2.]\n",
      " [0. 0. 0. 3.]\n",
      " [0. 0. 0. 1.]\n",
      " [0. 0. 0. 2.]]\n"
     ]
    }
   ],
   "source": [
    "print(bow_matrix)"
   ]
  },
  {
   "cell_type": "code",
   "execution_count": 334,
   "id": "cae1500a",
   "metadata": {},
   "outputs": [
    {
     "data": {
      "text/plain": [
       "(172, 4)"
      ]
     },
     "execution_count": 334,
     "metadata": {},
     "output_type": "execute_result"
    }
   ],
   "source": [
    "bow_matrix.shape # 172 distinct token and 4 docs"
   ]
  },
  {
   "cell_type": "code",
   "execution_count": 335,
   "id": "e8525029",
   "metadata": {},
   "outputs": [],
   "source": [
    "# 172 unique values in 4 documents"
   ]
  },
  {
   "cell_type": "code",
   "execution_count": 336,
   "id": "9a4ad5a6",
   "metadata": {},
   "outputs": [],
   "source": [
    "# Woh word that is 'AI' pehle doc m 3 times aya h doosre m 3 times , tesre m 4 and 4th m 2 times"
   ]
  },
  {
   "cell_type": "code",
   "execution_count": null,
   "id": "6ab7b4c2",
   "metadata": {},
   "outputs": [],
   "source": [
    "# term frequency = number of times the term is there \n",
    "# document frequency\n",
    "# IDF: Inverse document frquency"
   ]
  },
  {
   "cell_type": "markdown",
   "id": "c3915152",
   "metadata": {},
   "source": [
    "## TFIDF Vectorisation\n",
    "\n",
    "Term Frequency Inverse Document Frequency\n",
    "\n",
    "TF-IDF (Term Frequency-Inverse Document Frequency) vectorization is a technique used to represent text documents as a matrix of numbers. It is a more advanced technique than simple bag-of-words (BoW) representation, as it takes into account the importance of each word in the document and the corpus.\n",
    "\n",
    "The basic idea behind TF-IDF vectorization is to weight the frequency of each word in the document by its importance in the corpus. The weight of each word is determined by two factors:\n",
    "\n",
    "Term Frequency (TF): This measures the frequency of a word in a document. The more often a word appears in the document, the higher its TF value.\n",
    "\n",
    "Inverse Document Frequency (IDF): This measures the importance of a word in the corpus. The rarer a word is in the corpus, the higher its IDF value.\n"
   ]
  },
  {
   "cell_type": "code",
   "execution_count": 337,
   "id": "dfdcbf11",
   "metadata": {},
   "outputs": [],
   "source": [
    "# Vectorisation is done"
   ]
  },
  {
   "cell_type": "code",
   "execution_count": 338,
   "id": "0d102bd9",
   "metadata": {},
   "outputs": [],
   "source": [
    "from gensim.models import TfidfModel\n",
    "tfidf=TfidfModel(bow_vec)"
   ]
  },
  {
   "cell_type": "code",
   "execution_count": 339,
   "id": "5ab18b4b",
   "metadata": {},
   "outputs": [
    {
     "name": "stdout",
     "output_type": "stream",
     "text": [
      "TfidfModel(num_docs=4, num_nnz=214)\n"
     ]
    }
   ],
   "source": [
    "print(tfidf)"
   ]
  },
  {
   "cell_type": "code",
   "execution_count": 340,
   "id": "bea102cd",
   "metadata": {},
   "outputs": [],
   "source": [
    "tfidf_vec=[]\n",
    "for vec in bow_vec:\n",
    "    tfidf_vec.append(tfidf[vec])"
   ]
  },
  {
   "cell_type": "code",
   "execution_count": 341,
   "id": "59f4ccb9",
   "metadata": {},
   "outputs": [
    {
     "name": "stdout",
     "output_type": "stream",
     "text": [
      "[[(1, 0.18920325824137527), (2, 0.25227101098850035), (3, 0.25227101098850035), (4, 0.12613550549425018), (5, 0.12613550549425018), (6, 0.12613550549425018), (7, 0.12613550549425018), (8, 0.12613550549425018), (9, 0.06306775274712509), (10, 0.12613550549425018), (11, 0.25227101098850035), (12, 0.12613550549425018), (13, 0.06306775274712509), (14, 0.18920325824137527), (15, 0.12613550549425018), (16, 0.12613550549425018), (17, 0.12613550549425018), (18, 0.12613550549425018), (19, 0.12613550549425018), (20, 0.026175482385303223), (21, 0.12613550549425018), (22, 0.12613550549425018), (23, 0.12613550549425018), (24, 0.12613550549425018), (25, 0.25227101098850035), (26, 0.12613550549425018), (27, 0.12613550549425018), (28, 0.05235096477060645), (29, 0.25227101098850035), (30, 0.05235096477060645), (31, 0.12613550549425018), (32, 0.06306775274712509), (33, 0.05235096477060645), (34, 0.12613550549425018), (35, 0.06306775274712509), (36, 0.12613550549425018), (37, 0.06306775274712509), (38, 0.06306775274712509), (39, 0.12613550549425018), (40, 0.12613550549425018), (41, 0.12613550549425018), (42, 0.12613550549425018), (43, 0.12613550549425018), (44, 0.06306775274712509), (45, 0.12613550549425018), (46, 0.12613550549425018), (47, 0.12613550549425018), (48, 0.12613550549425018), (49, 0.026175482385303223), (50, 0.12613550549425018), (51, 0.25227101098850035), (52, 0.12613550549425018)], [(1, 0.05833161976223527), (2, 0.23332647904894108), (3, 0.2916580988111764), (14, 0.05833161976223527), (18, 0.05833161976223527), (20, 0.024209809595002508), (28, 0.048419619190005016), (30, 0.048419619190005016), (32, 0.05833161976223527), (33, 0.024209809595002508), (38, 0.05833161976223527), (44, 0.05833161976223527), (49, 0.024209809595002508), (53, 0.05833161976223527), (54, 0.11666323952447054), (55, 0.11666323952447054), (56, 0.11666323952447054), (57, 0.11666323952447054), (58, 0.11666323952447054), (59, 0.11666323952447054), (60, 0.05833161976223527), (61, 0.11666323952447054), (62, 0.11666323952447054), (63, 0.11666323952447054), (64, 0.11666323952447054), (65, 0.11666323952447054), (66, 0.11666323952447054), (67, 0.11666323952447054), (68, 0.11666323952447054), (69, 0.23332647904894108), (70, 0.05833161976223527), (71, 0.11666323952447054), (72, 0.11666323952447054), (73, 0.11666323952447054), (74, 0.11666323952447054), (75, 0.11666323952447054), (76, 0.05833161976223527), (77, 0.05833161976223527), (78, 0.23332647904894108), (79, 0.11666323952447054), (80, 0.11666323952447054), (81, 0.11666323952447054), (82, 0.11666323952447054), (83, 0.11666323952447054), (84, 0.23332647904894108), (85, 0.23332647904894108), (86, 0.05833161976223527), (87, 0.11666323952447054), (88, 0.23332647904894108), (89, 0.11666323952447054), (90, 0.11666323952447054), (91, 0.11666323952447054), (92, 0.11666323952447054), (93, 0.11666323952447054), (94, 0.23332647904894108), (95, 0.05833161976223527), (96, 0.05833161976223527), (97, 0.11666323952447054), (98, 0.11666323952447054), (99, 0.11666323952447054), (100, 0.11666323952447054), (101, 0.11666323952447054), (102, 0.05833161976223527)], [(9, 0.07082088165613964), (20, 0.029393321619287132), (28, 0.058786643238574264), (30, 0.029393321619287132), (33, 0.029393321619287132), (49, 0.029393321619287132), (51, 0.07082088165613964), (53, 0.1416417633122793), (60, 0.07082088165613964), (61, 0.07082088165613964), (76, 0.07082088165613964), (77, 0.07082088165613964), (86, 0.07082088165613964), (95, 0.07082088165613964), (102, 0.07082088165613964), (103, 0.1416417633122793), (104, 0.1416417633122793), (105, 0.1416417633122793), (106, 0.1416417633122793), (107, 0.1416417633122793), (108, 0.1416417633122793), (109, 0.1416417633122793), (110, 0.1416417633122793), (111, 0.1416417633122793), (112, 0.1416417633122793), (113, 0.2832835266245586), (114, 0.1416417633122793), (115, 0.1416417633122793), (116, 0.1416417633122793), (117, 0.1416417633122793), (118, 0.1416417633122793), (119, 0.1416417633122793), (120, 0.07082088165613964), (121, 0.1416417633122793), (122, 0.1416417633122793), (123, 0.1416417633122793), (124, 0.1416417633122793), (125, 0.1416417633122793), (126, 0.07082088165613964), (127, 0.1416417633122793), (128, 0.1416417633122793), (129, 0.1416417633122793), (130, 0.07082088165613964), (131, 0.1416417633122793), (132, 0.1416417633122793), (133, 0.1416417633122793), (134, 0.1416417633122793), (135, 0.1416417633122793), (136, 0.1416417633122793), (137, 0.1416417633122793), (138, 0.1416417633122793), (139, 0.07082088165613964), (140, 0.1416417633122793), (141, 0.1416417633122793), (142, 0.1416417633122793), (143, 0.07082088165613964), (144, 0.1416417633122793), (145, 0.1416417633122793), (146, 0.2832835266245586)], [(13, 0.05783149319662402), (35, 0.11566298639324804), (36, 0.11566298639324804), (37, 0.05783149319662402), (70, 0.05783149319662402), (96, 0.05783149319662402), (120, 0.05783149319662402), (126, 0.05783149319662402), (130, 0.11566298639324804), (139, 0.11566298639324804), (143, 0.05783149319662402), (147, 0.11566298639324804), (148, 0.11566298639324804), (149, 0.11566298639324804), (150, 0.11566298639324804), (151, 0.23132597278649608), (152, 0.23132597278649608), (153, 0.11566298639324804), (154, 0.11566298639324804), (155, 0.11566298639324804), (156, 0.34698895917974415), (157, 0.11566298639324804), (158, 0.11566298639324804), (159, 0.34698895917974415), (160, 0.11566298639324804), (161, 0.11566298639324804), (162, 0.11566298639324804), (163, 0.11566298639324804), (164, 0.11566298639324804), (165, 0.11566298639324804), (166, 0.34698895917974415), (167, 0.11566298639324804), (168, 0.23132597278649608), (169, 0.34698895917974415), (170, 0.11566298639324804), (171, 0.23132597278649608)]]\n"
     ]
    }
   ],
   "source": [
    "print(tfidf_vec)"
   ]
  },
  {
   "cell_type": "code",
   "execution_count": 342,
   "id": "22c20631",
   "metadata": {},
   "outputs": [
    {
     "name": "stdout",
     "output_type": "stream",
     "text": [
      "4\n"
     ]
    }
   ],
   "source": [
    "print(len(tfidf_vec))"
   ]
  },
  {
   "cell_type": "markdown",
   "id": "df74544c",
   "metadata": {},
   "source": [
    "print(gensim.__version__)"
   ]
  },
  {
   "cell_type": "markdown",
   "id": "67a265da",
   "metadata": {},
   "source": [
    "## Similarity of documents"
   ]
  },
  {
   "cell_type": "markdown",
   "id": "19499caa",
   "metadata": {},
   "source": [
    "After representing documents as vectors using techniques such as bag-of-words or TF-IDF, we can measure the similarity between them using distance metrics or similarity measures."
   ]
  },
  {
   "cell_type": "markdown",
   "id": "a54fd53f",
   "metadata": {},
   "source": [
    "The MatrixSimilarity function in Gensim creates an index that can be used to perform similarity queries efficiently. It takes a corpus of documents (represented as vectors) and the number of features (which is the length of the dictionary used to create the vectors) as input.\n",
    "\n",
    "In your example, tfidf_vec is the corpus of documents represented as TF-IDF vectors, and len(dict_1) is the number of features in the vectors (i.e., the length of the dictionary).\n"
   ]
  },
  {
   "cell_type": "code",
   "execution_count": 343,
   "id": "fc90f366",
   "metadata": {},
   "outputs": [],
   "source": [
    "from gensim.similarities import MatrixSimilarity"
   ]
  },
  {
   "cell_type": "code",
   "execution_count": 344,
   "id": "b3b13afc",
   "metadata": {},
   "outputs": [],
   "source": [
    "sim=MatrixSimilarity(tfidf_vec,num_features=len(dict_1))"
   ]
  },
  {
   "cell_type": "code",
   "execution_count": 345,
   "id": "f06ceba9",
   "metadata": {},
   "outputs": [
    {
     "name": "stdout",
     "output_type": "stream",
     "text": [
      "MatrixSimilarity<4 docs, 172 features>\n"
     ]
    }
   ],
   "source": [
    "print(sim)"
   ]
  },
  {
   "cell_type": "code",
   "execution_count": 346,
   "id": "0155a166",
   "metadata": {},
   "outputs": [
    {
     "name": "stdout",
     "output_type": "stream",
     "text": [
      "[0.9999999  0.18051012 0.03002641 0.02917842]\n"
     ]
    }
   ],
   "source": [
    "print(sim[tfidf_vec[0]])"
   ]
  },
  {
   "cell_type": "code",
   "execution_count": 348,
   "id": "7483ed7f",
   "metadata": {},
   "outputs": [],
   "source": [
    "# similarity of 1 with 1,2,3,4 resp"
   ]
  },
  {
   "cell_type": "code",
   "execution_count": 38,
   "id": "76b935cb",
   "metadata": {},
   "outputs": [
    {
     "name": "stdout",
     "output_type": "stream",
     "text": [
      "[0.02917842 0.00674681 0.02866974 0.9999999 ]\n"
     ]
    }
   ],
   "source": [
    "print(sim[tfidf_vec[3]])"
   ]
  },
  {
   "cell_type": "code",
   "execution_count": 349,
   "id": "7cb5bc12",
   "metadata": {},
   "outputs": [],
   "source": [
    "# 2 methods on vectorisation: tfidf and bad of words"
   ]
  },
  {
   "cell_type": "markdown",
   "id": "b46a58fd",
   "metadata": {},
   "source": [
    "## SESSION 7: TOPIC MODELLING"
   ]
  },
  {
   "cell_type": "code",
   "execution_count": 350,
   "id": "e64046f9",
   "metadata": {},
   "outputs": [],
   "source": [
    "# Topic modelling- unsupervised\n",
    "# topic classification- supervides"
   ]
  },
  {
   "cell_type": "code",
   "execution_count": 355,
   "id": "edda104f",
   "metadata": {},
   "outputs": [],
   "source": [
    "# Latent Dirichlet Allocation---> LDA"
   ]
  },
  {
   "cell_type": "code",
   "execution_count": 351,
   "id": "c21e46bc",
   "metadata": {},
   "outputs": [
    {
     "name": "stderr",
     "output_type": "stream",
     "text": [
      "C:\\Users\\pc\\anaconda3\\lib\\site-packages\\past\\builtins\\misc.py:45: DeprecationWarning: the imp module is deprecated in favour of importlib; see the module's documentation for alternative uses\n",
      "  from imp import reload\n"
     ]
    }
   ],
   "source": [
    "#!pip install pyLDAvis\n",
    "import pyLDAvis"
   ]
  },
  {
   "cell_type": "code",
   "execution_count": 352,
   "id": "d4fe83b8",
   "metadata": {},
   "outputs": [],
   "source": [
    "import pyLDAvis.gensim_models"
   ]
  },
  {
   "cell_type": "code",
   "execution_count": 353,
   "id": "be7aede2",
   "metadata": {},
   "outputs": [],
   "source": [
    "import spacy\n",
    "import gensim"
   ]
  },
  {
   "cell_type": "code",
   "execution_count": 356,
   "id": "b528581f",
   "metadata": {},
   "outputs": [],
   "source": [
    "nlp=spacy.load('en_core_web_sm')"
   ]
  },
  {
   "cell_type": "markdown",
   "id": "0b2040af",
   "metadata": {},
   "source": [
    "## Accessing texts"
   ]
  },
  {
   "cell_type": "code",
   "execution_count": 357,
   "id": "6023993c",
   "metadata": {},
   "outputs": [],
   "source": [
    "text_1='''chess, one of the oldest and most popular board games, played by two opponents on a checkered board with specially designed pieces of contrasting colours, commonly white and black. White moves first, after which the players alternate turns in accordance with fixed rules, each player attempting to force the opponent’s principal piece, the King, into checkmate—a position where it is unable to avoid capture.\n",
    "Chess first appeared in India about the 6th century AD and by the 10th century had spread from Asia to the Middle East and Europe. Since at least the 15th century, chess has been known as the “royal game” because of its popularity among the nobility. Rules and set design slowly evolved until both reached today’s standard in the early 19th century. Once an intellectual diversion favoured by the upper classes, chess went through an explosive growth in interest during the 20th century as professional and state-sponsored players competed for an officially recognized world championship title and increasingly lucrative tournament prizes. Organized chess tournaments, postal correspondence games, and Internet chess now attract men, women, and children around the world.\n",
    "This article provides an in-depth review of the history and the theory of the game by noted author and international grandmaster Andrew Soltis.\n",
    "Characteristics of the game\n",
    "Chess is played on a board of 64 squares arranged in eight vertical rows called files and eight horizontal rows called ranks. These squares alternate between two colours: one light, such as white, beige, or yellow; and the other dark, such as black or green. The board is set between the two opponents so that each player has a light-coloured square at the right-hand corner.\n",
    "Algebraic notation\n",
    "Individual moves and entire games can be recorded using one of several forms of notation. By far the most widely used form, algebraic (or coordinate) notation, identifies each square from the point of view of the player with the light-coloured pieces, called White. The eight ranks are numbered 1 through 8 beginning with the rank closest to White. The files are labeled a through h beginning with the file at White’s left hand. Each square has a name consisting of its letter and number, such as b3 or g8. Additionally, files a through d are referred to as the queenside, and files e through h as the kingside. See Figure 1.\n",
    "Get a Britannica Premium subscription and gain access to exclusive content.\n",
    "Subscribe Now\n",
    "Moves\n",
    "The board represents a battlefield in which two armies fight to capture each other’s king. A player’s army consists of 16 pieces that begin play on the two ranks closest to that player. There are six different types of pieces: king, rook, bishop, queen, knight, and pawn; the pieces are distinguished by appearance and by how they move. The players alternate moves, White going first.\n",
    "King\n",
    "White’s king begins the game on e1. Black’s king is opposite at e8. Each king can move one square in any direction; e.g., White’s king can move from e1 to d1, d2, e2, f2, or f1.\n",
    "Rook\n",
    "Each player has two rooks (formerly also known as castles), which begin the game on the corner squares a1 and h1 for White, a8 and h8 for Black. A rook can move vertically or horizontally to any unobstructed square along the file or rank on which it is placed.\n",
    "Bishop\n",
    "Each player has two bishops, and they begin the game at c1 and f1 for White, c8 and f8 for Black. A bishop can move to any unobstructed square on the diagonal on which it is placed. Therefore, each player has one bishop that travels only on light-coloured squares and one bishop that travels only on dark-coloured squares.\n",
    "Queen\n",
    "Each player has one queen, which combines the powers of the rook and bishop and is thus the most mobile and powerful piece. The White queen begins at d1, the Black queen at d8.\n",
    "Knight\n",
    "Each player has two knights, and they begin the game on the squares between their rooks and bishops—i.e., at b1 and g1 for White and b8 and g8 for Black. The knight has the trickiest move, an L-shape of two steps: first one square like a rook, then one square like a bishop, but always in a direction away from the starting square. A knight at e4 could move to f2, g3, g5, f6, d6, c5, c3, or d2. The knight has the unique ability to jump over any other piece to reach its destination. It always moves to a square of a different colour.\n",
    "Capturing\n",
    "The king, rook, bishop, queen, and knight capture enemy pieces in the same manner that they move. For example, a White queen on d3 can capture a Black rook at h7 by moving to h7 and removing the enemy piece from the board. Pieces can capture only enemy pieces.\n",
    "Pawns\n",
    "Each player has eight pawns, which begin the game on the second rank closest to each player; i.e., White’s pawns start at a2, b2, c2, and so on, while Black’s pawns start at a7, b7, c7, and so on. The pawns are unique in several ways. A pawn can move only forward; it can never retreat. It moves differently than it captures. A pawn moves to the square directly ahead of it but captures on the squares diagonally in front of it; e.g., a White pawn at f5 can move to f6 but can capture only on g6 or e6. An unmoved pawn has the option of moving one or two squares forward. This is the reason for another peculiar option, called en passant—that is, in passing—available to a pawn when an enemy pawn on an adjoining file advances two squares on its initial move and could have been captured had it moved only one square. The first pawn can take the advancing pawn en passant, as if it had advanced only one square. An en passant capture must be made then or not at all. Only pawns can be captured en passant. The last unique feature of the pawn occurs if it reaches the end of a file; it must then be promoted to—that is, exchanged for—a queen, rook, bishop, or knight.\n",
    "Castling\n",
    "The one exception to the rule that a player may move only one piece at a time is a compound move of king and rook called castling. A player castles by shifting the king two squares in the direction of a rook, which is then placed on the square the king has crossed. For example, White can castle kingside by moving the king from e1 to g1 and the rook from h1 to f1. Castling is permitted only once in a game and is prohibited if the king or rook has previously moved or if any of the squares between them is occupied. Also, castling is not legal if the square the king starts on, crosses, or finishes on is attacked by an enemy piece.\n",
    "Relative piece values\n",
    "Assigning the pawn a value of 1, the values of the other pieces are approximately as follows: knight 3, bishop 3, rook 5, and queen 9. The relative values of knights and bishops vary with different pawn structures. Additionally, tactical considerations may temporarily override the pieces’ usual relative values. Material concerns are secondary to winning.\n",
    "Object of the game\n",
    "When a player moves a piece to a square on which it attacks the enemy king—that is, a square from which it could capture the king if the king is not shielded or moved—the king is said to be in check. The game is won when one king is in check and cannot avoid capture on the next move; this is called checkmate. A game also can end when a player, believing the situation to be hopeless, acknowledges defeat by resigning.\n",
    "There are three possible results in chess: win, lose, or draw. There are six ways a draw can come about: (1) by mutual consent, (2) when neither player has enough pieces to deliver checkmate, (3) when one player can check the enemy king endlessly (perpetual check), (4) when a player who is not in check has no legal move (stalemate), (5) when an identical position occurs three times with the same player having the right to move, and (6) when no piece has been captured and no pawn has been moved within a period of 50 moves.\n",
    "In competitive events, a victory is scored as one point, a draw as half a point, and a loss as no points.'''"
   ]
  },
  {
   "cell_type": "code",
   "execution_count": 358,
   "id": "981dff34",
   "metadata": {},
   "outputs": [
    {
     "data": {
      "text/plain": [
       "'chess, one of the oldest and most popular board games, played by two opponents on a checkered board with specially designed pieces of contrasting colours, commonly white and black. White moves first, after which the players alternate turns in accordance with fixed rules, each player attempting to force the opponent’s principal piece, the King, into checkmate—a position where it is unable to avoid capture.\\nChess first appeared in India about the 6th century AD and by the 10th century had spread from Asia to the Middle East and Europe. Since at least the 15th century, chess has been known as the “royal game” because of its popularity among the nobility. Rules and set design slowly evolved until both reached today’s standard in the early 19th century. Once an intellectual diversion favoured by the upper classes, chess went through an explosive growth in interest during the 20th century as professional and state-sponsored players competed for an officially recognized world championship title and increasingly lucrative tournament prizes. Organized chess tournaments, postal correspondence games, and Internet chess now attract men, women, and children around the world.\\nThis article provides an in-depth review of the history and the theory of the game by noted author and international grandmaster Andrew Soltis.\\nCharacteristics of the game\\nChess is played on a board of 64 squares arranged in eight vertical rows called files and eight horizontal rows called ranks. These squares alternate between two colours: one light, such as white, beige, or yellow; and the other dark, such as black or green. The board is set between the two opponents so that each player has a light-coloured square at the right-hand corner.\\nAlgebraic notation\\nIndividual moves and entire games can be recorded using one of several forms of notation. By far the most widely used form, algebraic (or coordinate) notation, identifies each square from the point of view of the player with the light-coloured pieces, called White. The eight ranks are numbered 1 through 8 beginning with the rank closest to White. The files are labeled a through h beginning with the file at White’s left hand. Each square has a name consisting of its letter and number, such as b3 or g8. Additionally, files a through d are referred to as the queenside, and files e through h as the kingside. See Figure 1.\\nGet a Britannica Premium subscription and gain access to exclusive content.\\nSubscribe Now\\nMoves\\nThe board represents a battlefield in which two armies fight to capture each other’s king. A player’s army consists of 16 pieces that begin play on the two ranks closest to that player. There are six different types of pieces: king, rook, bishop, queen, knight, and pawn; the pieces are distinguished by appearance and by how they move. The players alternate moves, White going first.\\nKing\\nWhite’s king begins the game on e1. Black’s king is opposite at e8. Each king can move one square in any direction; e.g., White’s king can move from e1 to d1, d2, e2, f2, or f1.\\nRook\\nEach player has two rooks (formerly also known as castles), which begin the game on the corner squares a1 and h1 for White, a8 and h8 for Black. A rook can move vertically or horizontally to any unobstructed square along the file or rank on which it is placed.\\nBishop\\nEach player has two bishops, and they begin the game at c1 and f1 for White, c8 and f8 for Black. A bishop can move to any unobstructed square on the diagonal on which it is placed. Therefore, each player has one bishop that travels only on light-coloured squares and one bishop that travels only on dark-coloured squares.\\nQueen\\nEach player has one queen, which combines the powers of the rook and bishop and is thus the most mobile and powerful piece. The White queen begins at d1, the Black queen at d8.\\nKnight\\nEach player has two knights, and they begin the game on the squares between their rooks and bishops—i.e., at b1 and g1 for White and b8 and g8 for Black. The knight has the trickiest move, an L-shape of two steps: first one square like a rook, then one square like a bishop, but always in a direction away from the starting square. A knight at e4 could move to f2, g3, g5, f6, d6, c5, c3, or d2. The knight has the unique ability to jump over any other piece to reach its destination. It always moves to a square of a different colour.\\nCapturing\\nThe king, rook, bishop, queen, and knight capture enemy pieces in the same manner that they move. For example, a White queen on d3 can capture a Black rook at h7 by moving to h7 and removing the enemy piece from the board. Pieces can capture only enemy pieces.\\nPawns\\nEach player has eight pawns, which begin the game on the second rank closest to each player; i.e., White’s pawns start at a2, b2, c2, and so on, while Black’s pawns start at a7, b7, c7, and so on. The pawns are unique in several ways. A pawn can move only forward; it can never retreat. It moves differently than it captures. A pawn moves to the square directly ahead of it but captures on the squares diagonally in front of it; e.g., a White pawn at f5 can move to f6 but can capture only on g6 or e6. An unmoved pawn has the option of moving one or two squares forward. This is the reason for another peculiar option, called en passant—that is, in passing—available to a pawn when an enemy pawn on an adjoining file advances two squares on its initial move and could have been captured had it moved only one square. The first pawn can take the advancing pawn en passant, as if it had advanced only one square. An en passant capture must be made then or not at all. Only pawns can be captured en passant. The last unique feature of the pawn occurs if it reaches the end of a file; it must then be promoted to—that is, exchanged for—a queen, rook, bishop, or knight.\\nCastling\\nThe one exception to the rule that a player may move only one piece at a time is a compound move of king and rook called castling. A player castles by shifting the king two squares in the direction of a rook, which is then placed on the square the king has crossed. For example, White can castle kingside by moving the king from e1 to g1 and the rook from h1 to f1. Castling is permitted only once in a game and is prohibited if the king or rook has previously moved or if any of the squares between them is occupied. Also, castling is not legal if the square the king starts on, crosses, or finishes on is attacked by an enemy piece.\\nRelative piece values\\nAssigning the pawn a value of 1, the values of the other pieces are approximately as follows: knight 3, bishop 3, rook 5, and queen 9. The relative values of knights and bishops vary with different pawn structures. Additionally, tactical considerations may temporarily override the pieces’ usual relative values. Material concerns are secondary to winning.\\nObject of the game\\nWhen a player moves a piece to a square on which it attacks the enemy king—that is, a square from which it could capture the king if the king is not shielded or moved—the king is said to be in check. The game is won when one king is in check and cannot avoid capture on the next move; this is called checkmate. A game also can end when a player, believing the situation to be hopeless, acknowledges defeat by resigning.\\nThere are three possible results in chess: win, lose, or draw. There are six ways a draw can come about: (1) by mutual consent, (2) when neither player has enough pieces to deliver checkmate, (3) when one player can check the enemy king endlessly (perpetual check), (4) when a player who is not in check has no legal move (stalemate), (5) when an identical position occurs three times with the same player having the right to move, and (6) when no piece has been captured and no pawn has been moved within a period of 50 moves.\\nIn competitive events, a victory is scored as one point, a draw as half a point, and a loss as no points.'"
      ]
     },
     "execution_count": 358,
     "metadata": {},
     "output_type": "execute_result"
    }
   ],
   "source": [
    "text_1"
   ]
  },
  {
   "cell_type": "code",
   "execution_count": 359,
   "id": "0ff1c940",
   "metadata": {},
   "outputs": [],
   "source": [
    "text_2='''Chess computers were first able to beat strong chess players in the late 1980s. Their most famous success was the victory of Deep Blue over then World Chess Champion Garry Kasparov in 1997, but there was some controversy over whether the match conditions favored the computer.\n",
    "In 2002–2003, three human–computer matches were drawn, but, whereas Deep Blue was a specialized machine, these were chess programs running on commercially available computers.\n",
    "Chess programs running on commercially available desktop computers won decisive victories against human players in matches in 2005 and 2006. The second of these, against then world champion Vladimir Kramnik is (as of 2019) the last major human-computer match.\n",
    "Since that time, chess programs running on commercial hardware—more recently including mobile phones—have been able to defeat even the strongest human players.\n",
    "MANIAC (1956)\n",
    "In 1956 MANIAC, developed at Los Alamos Scientific Laboratory, became the first computer to defeat a human in a chess-like game. Playing with the simplified Los Alamos rules, it defeated a novice in 23 moves.[1]\n",
    "Mac Hack VI (1966–1968)\n",
    "In 1966 MIT student Richard Greenblatt wrote the chess program Mac Hack VI using MIDAS macro assembly language on a Digital Equipment Corporation PDP-6 computer with 16K of memory. Mac Hack VI evaluated 10 positions per second.\n",
    "In 1967, several MIT students and professors (organized by Seymour Papert) challenged Dr. Hubert Dreyfus to play a game of chess against Mac Hack VI. Dreyfus, a professor of philosophy at MIT, wrote the book What Computers Can’t Do, questioning the computer's ability to serve as a model for the human brain. He also asserted that no computer program could defeat even a 10-year-old child at chess. Dreyfus accepted the challenge. Herbert A. Simon, an artificial intelligence pioneer, watched the game. He said, \"it was a wonderful game—a real cliffhanger between two woodpushers with bursts of insights and fiendish plans ... great moments of drama and disaster that go in such games.\" The computer was beating Dreyfus when he found a move which could have captured the enemy queen. The only way the computer could get out of this was to keep Dreyfus in checks with its own queen until it could fork the queen and king, and then exchange them. That is what the computer did. Soon, Dreyfus was losing. Finally, the computer checkmated Dreyfus in the middle of the board.\n",
    "In the spring of 1967, Mac Hack VI played in the Boston Amateur championship, winning two games and drawing two games. Mac Hack VI beat a 1510 United States Chess Federation player. This was the first time a computer won a game in a human tournament. At the end of 1968, Mac Hack VI achieved a rating of 1529. The average rating in the USCF was near 1500.[2]\n",
    "Chess x.x (1968–1978)\n",
    "In 1968, Northwestern University students Larry Atkin, David Slate and Keith Gorlen began work on Chess (Northwestern University). On 14 April 1970 an exhibition game was played against Australian Champion Fred Flatow, the program running on a Control Data Corporation 6600 model. Flatow won easily. On 25 July 1976, Chess 4.5 scored 5–0 in the Class B (1600–1799) section of the 4th Paul Masson chess tournament in Saratoga, California. This was the first time a computer won a human tournament. Chess 4.5 was rated 1722. Chess 4.5 running on a Control Data Corporation CDC Cyber 175 supercomputer (2.1 megaflops) looked at less than 1500 positions per second. On 20 February 1977, Chess 4.5 won the 84th Minnesota Open Championship with 5 wins and 1 loss. It defeated expert Charles Fenner rated 2016. On 30 April 1978, Chess 4.6 scored 5–0 at the Twin Cities Open in Minneapolis. Chess 4.6 was rated 2040.[3] International Master Edward Lasker stated that year, \"My contention that computers cannot play like a master, I retract. They play absolutely alarmingly. I know, because I have lost games to 4.7.\"[4]\n",
    "David Levy's bet (1978)\n",
    "Main article: David Levy (chess player) § Computer chess bet\n",
    "For a long time in the 1970s and 1980s, it remained an open question whether any chess program would ever be able to defeat the expertise of top humans. In 1968, International Master David Levy made a famous bet that no chess computer would be able to beat him within ten years. He won his bet in 1978 by beating Chess 4.7 (the strongest computer at the time).\n",
    "Cray Blitz (1981)\n",
    "In 1981, Cray Blitz scored 5–0 in the Mississippi State Championship. In round 4, it defeated Joe Sentef (2262) to become the first computer to beat a master in tournament play and the first computer to gain a master rating (2258).[5]\n",
    "HiTech (1988)\n",
    "In 1988, HiTech won the Pennsylvania State Chess Championship with a score of 4½–½. HiTech defeated International Master Ed Formanek (2485).[6]\n",
    "The Harvard Cup Man versus Computer Chess Challenge was organized by Harvard University. There were six challenges from 1989 until 1995. They played in Boston and New York City. In each challenge the humans scored higher and the highest scorer was a human'''"
   ]
  },
  {
   "cell_type": "code",
   "execution_count": 360,
   "id": "24490253",
   "metadata": {},
   "outputs": [
    {
     "data": {
      "text/plain": [
       "'Chess computers were first able to beat strong chess players in the late 1980s. Their most famous success was the victory of Deep Blue over then World Chess Champion Garry Kasparov in 1997, but there was some controversy over whether the match conditions favored the computer.\\nIn 2002–2003, three human–computer matches were drawn, but, whereas Deep Blue was a specialized machine, these were chess programs running on commercially available computers.\\nChess programs running on commercially available desktop computers won decisive victories against human players in matches in 2005 and 2006. The second of these, against then world champion Vladimir Kramnik is (as of 2019) the last major human-computer match.\\nSince that time, chess programs running on commercial hardware—more recently including mobile phones—have been able to defeat even the strongest human players.\\nMANIAC (1956)\\nIn 1956 MANIAC, developed at Los Alamos Scientific Laboratory, became the first computer to defeat a human in a chess-like game. Playing with the simplified Los Alamos rules, it defeated a novice in 23 moves.[1]\\nMac Hack VI (1966–1968)\\nIn 1966 MIT student Richard Greenblatt wrote the chess program Mac Hack VI using MIDAS macro assembly language on a Digital Equipment Corporation PDP-6 computer with 16K of memory. Mac Hack VI evaluated 10 positions per second.\\nIn 1967, several MIT students and professors (organized by Seymour Papert) challenged Dr. Hubert Dreyfus to play a game of chess against Mac Hack VI. Dreyfus, a professor of philosophy at MIT, wrote the book What Computers Can’t Do, questioning the computer\\'s ability to serve as a model for the human brain. He also asserted that no computer program could defeat even a 10-year-old child at chess. Dreyfus accepted the challenge. Herbert A. Simon, an artificial intelligence pioneer, watched the game. He said, \"it was a wonderful game—a real cliffhanger between two woodpushers with bursts of insights and fiendish plans ... great moments of drama and disaster that go in such games.\" The computer was beating Dreyfus when he found a move which could have captured the enemy queen. The only way the computer could get out of this was to keep Dreyfus in checks with its own queen until it could fork the queen and king, and then exchange them. That is what the computer did. Soon, Dreyfus was losing. Finally, the computer checkmated Dreyfus in the middle of the board.\\nIn the spring of 1967, Mac Hack VI played in the Boston Amateur championship, winning two games and drawing two games. Mac Hack VI beat a 1510 United States Chess Federation player. This was the first time a computer won a game in a human tournament. At the end of 1968, Mac Hack VI achieved a rating of 1529. The average rating in the USCF was near 1500.[2]\\nChess x.x (1968–1978)\\nIn 1968, Northwestern University students Larry Atkin, David Slate and Keith Gorlen began work on Chess (Northwestern University). On 14 April 1970 an exhibition game was played against Australian Champion Fred Flatow, the program running on a Control Data Corporation 6600 model. Flatow won easily. On 25 July 1976, Chess 4.5 scored 5–0 in the Class B (1600–1799) section of the 4th Paul Masson chess tournament in Saratoga, California. This was the first time a computer won a human tournament. Chess 4.5 was rated 1722. Chess 4.5 running on a Control Data Corporation CDC Cyber 175 supercomputer (2.1 megaflops) looked at less than 1500 positions per second. On 20 February 1977, Chess 4.5 won the 84th Minnesota Open Championship with 5 wins and 1 loss. It defeated expert Charles Fenner rated 2016. On 30 April 1978, Chess 4.6 scored 5–0 at the Twin Cities Open in Minneapolis. Chess 4.6 was rated 2040.[3] International Master Edward Lasker stated that year, \"My contention that computers cannot play like a master, I retract. They play absolutely alarmingly. I know, because I have lost games to 4.7.\"[4]\\nDavid Levy\\'s bet (1978)\\nMain article: David Levy (chess player) § Computer chess bet\\nFor a long time in the 1970s and 1980s, it remained an open question whether any chess program would ever be able to defeat the expertise of top humans. In 1968, International Master David Levy made a famous bet that no chess computer would be able to beat him within ten years. He won his bet in 1978 by beating Chess 4.7 (the strongest computer at the time).\\nCray Blitz (1981)\\nIn 1981, Cray Blitz scored 5–0 in the Mississippi State Championship. In round 4, it defeated Joe Sentef (2262) to become the first computer to beat a master in tournament play and the first computer to gain a master rating (2258).[5]\\nHiTech (1988)\\nIn 1988, HiTech won the Pennsylvania State Chess Championship with a score of 4½–½. HiTech defeated International Master Ed Formanek (2485).[6]\\nThe Harvard Cup Man versus Computer Chess Challenge was organized by Harvard University. There were six challenges from 1989 until 1995. They played in Boston and New York City. In each challenge the humans scored higher and the highest scorer was a human'"
      ]
     },
     "execution_count": 360,
     "metadata": {},
     "output_type": "execute_result"
    }
   ],
   "source": [
    "text_2"
   ]
  },
  {
   "cell_type": "code",
   "execution_count": 361,
   "id": "b52c36e8",
   "metadata": {},
   "outputs": [],
   "source": [
    "text_3='''\"It's like a game of chess,\" we used to say in days gone by.\n",
    "Every move our politicians made could be analysed and interpreted, not only for its significance in the wider electoral tournament but also for the possible moves, or false moves, it might induce from opponents.\n",
    "That all seems rather quaint now, viewed from our present standpoint where the table on which the chess board so precariously sits is being shaken by a constant bombardment of violent impacts: the very survival of the UK, the war on Islamic State and our future in or out of the EU.\n",
    "No wonder the chess pieces are wobbling already and could soon be simply tossed up in the air to land who knows where.\n",
    "And now, of course, there is a new player in the game. UKIP thinks the contest has for too long been the preserve of the same exclusive club of elite players.\n",
    "\"This is an unpredictable election,\" Ed Miliband told me in what could well go down as the understatement of last week in Manchester.\n",
    "There really are so many imponderables piled one on top of another that assessing the likely outcomes next May looks less and less like a chess game and more and more like a mug's game.\n",
    "For a start, this era of coalition government means that with the two biggest parties short of a Commons majority, they both have rival sets of target seats on the go at the same time. So they are both in the position of having to fight defensive and offensive campaigns simultaneously.\n",
    "Our list of marginal seats here in the West Midlands shows that behind their ultra-close knife-edge marginals, Labour have some other narrow majorities to worry about before they start taking the Conservatives' chessmen off the board.\n",
    "These numbers underline the extend to which the Midlands has traditionally been a predominantly two-party contest.\n",
    "Liberal Democrat Lorely Burt stunned the Conservatives when she \"crept in under the radar\" in 2005 but now she has her work cut out to defend a majority of just 175 over the Conservatives.\n",
    "How will the emergence of the Green Party, now the official opposition on Solihull Council, affect the chances of the larger parties?\n",
    "Lorely Burt's party colleague John Hemming has turned Birmingham Yardley into something of a personal fiefdom, but Labour will be fighting hard to overturn his 3,002 majority and regain the seat he captured from former Education Secretary Estelle Morris in 2005.\n",
    "The Liberal Democrats' only other Midlands seat is in Cheltenham where Martin Horwood will defend a more comfortable majority of 4,920 over the Conservatives in what is still the home of the Midlands' only Liberal Democrat-controlled council.\n",
    "With confident predictions that the Liberal Democrats will lose many seats, perhaps it is to their traditional \"core\" constituencies that they may have to turn as they fight to limit the damage.\n",
    "And into this otherwise two-way political street comes the new kid on the blog, UKIP, arguably the biggest imponderable of all.\n",
    "If, as Nigel Farage says, they are not a repository simply for disillusioned Tory votes but a genuine mass party with broad appeal with their \"tanks on Labour's lawn\", how might they upset the two-party chess board?\n",
    "Take Dudley North, for example, where Labour's wafer-thin majority over the Conservatives faces the additional challenge of the UKIP candidate Bill Etheridge MEP, who has turned his borough into a local power base.\n",
    "'Politically toxic'\n",
    "On the other hand, how will the Conservatives' tiny majority over Labour in Warwickshire North fare against not just an experienced Labour candidate, former minister Mike O'Brien, but also UKIP who have made great play of opposition to high-speed rail in an area where HS2 has become, to mix my analogies, politically toxic?\n",
    "Or could the Midlands UKIP vote shrink, as it did in 2010 to just 4% after a performance in the previous summer's European elections which was impressive but not as emphatic as their clear victory in this year's EU poll?\n",
    "The evidence of the local elections on the same day was that if you simply weigh the votes, it is the Conservatives who lose the most. But if you apply those numbers to real council areas (and Parliamentary constituencies?} you see it was Labour who suffered last May, failing to win majorities in target councils like Tamworth, Walsall and Worcester.\n",
    "But in the remaining eight months before polling, perhaps the greatest imponderable of all is what politicians call \"events\" in a region which has always been particularly prone to the ups and downs of the economy.\n",
    "The Birmingham and Solihull Chamber of Commerce has just reported a continuing surge in business confidence.\n",
    "\"Try telling that to young people in my constituency\" says Ian Austin, the Labour MP for that key seat of Dudley North, where unemployment remains well above the national average and where wages continue to lag behind prices.\n",
    "Put all these chess pieces together and you can see why even those politics watchers with the longest memories say they have never known an election as difficult to predict as this.\n",
    "It helps to explain why the mood clearly detectable in Labour's ranks last week in Manchester was more uncertain than hopeful; why the Conservatives, behind Labour in the polls for so long, nevertheless closed their conference in Birmingham with more than a sneaking feeling that they could confound the sooth-sayers; and why I have it on good authority that senior Liberal Democrats are preparing to embark on their conference in Glasgow in a mood of innermost trepidation.\n",
    "As the end game draws near, a game of chess has never looked more like a game of chance.....'''"
   ]
  },
  {
   "cell_type": "code",
   "execution_count": 362,
   "id": "44bdf4bc",
   "metadata": {},
   "outputs": [
    {
     "data": {
      "text/plain": [
       "'\"It\\'s like a game of chess,\" we used to say in days gone by.\\nEvery move our politicians made could be analysed and interpreted, not only for its significance in the wider electoral tournament but also for the possible moves, or false moves, it might induce from opponents.\\nThat all seems rather quaint now, viewed from our present standpoint where the table on which the chess board so precariously sits is being shaken by a constant bombardment of violent impacts: the very survival of the UK, the war on Islamic State and our future in or out of the EU.\\nNo wonder the chess pieces are wobbling already and could soon be simply tossed up in the air to land who knows where.\\nAnd now, of course, there is a new player in the game. UKIP thinks the contest has for too long been the preserve of the same exclusive club of elite players.\\n\"This is an unpredictable election,\" Ed Miliband told me in what could well go down as the understatement of last week in Manchester.\\nThere really are so many imponderables piled one on top of another that assessing the likely outcomes next May looks less and less like a chess game and more and more like a mug\\'s game.\\nFor a start, this era of coalition government means that with the two biggest parties short of a Commons majority, they both have rival sets of target seats on the go at the same time. So they are both in the position of having to fight defensive and offensive campaigns simultaneously.\\nOur list of marginal seats here in the West Midlands shows that behind their ultra-close knife-edge marginals, Labour have some other narrow majorities to worry about before they start taking the Conservatives\\' chessmen off the board.\\nThese numbers underline the extend to which the Midlands has traditionally been a predominantly two-party contest.\\nLiberal Democrat Lorely Burt stunned the Conservatives when she \"crept in under the radar\" in 2005 but now she has her work cut out to defend a majority of just 175 over the Conservatives.\\nHow will the emergence of the Green Party, now the official opposition on Solihull Council, affect the chances of the larger parties?\\nLorely Burt\\'s party colleague John Hemming has turned Birmingham Yardley into something of a personal fiefdom, but Labour will be fighting hard to overturn his 3,002 majority and regain the seat he captured from former Education Secretary Estelle Morris in 2005.\\nThe Liberal Democrats\\' only other Midlands seat is in Cheltenham where Martin Horwood will defend a more comfortable majority of 4,920 over the Conservatives in what is still the home of the Midlands\\' only Liberal Democrat-controlled council.\\nWith confident predictions that the Liberal Democrats will lose many seats, perhaps it is to their traditional \"core\" constituencies that they may have to turn as they fight to limit the damage.\\nAnd into this otherwise two-way political street comes the new kid on the blog, UKIP, arguably the biggest imponderable of all.\\nIf, as Nigel Farage says, they are not a repository simply for disillusioned Tory votes but a genuine mass party with broad appeal with their \"tanks on Labour\\'s lawn\", how might they upset the two-party chess board?\\nTake Dudley North, for example, where Labour\\'s wafer-thin majority over the Conservatives faces the additional challenge of the UKIP candidate Bill Etheridge MEP, who has turned his borough into a local power base.\\n\\'Politically toxic\\'\\nOn the other hand, how will the Conservatives\\' tiny majority over Labour in Warwickshire North fare against not just an experienced Labour candidate, former minister Mike O\\'Brien, but also UKIP who have made great play of opposition to high-speed rail in an area where HS2 has become, to mix my analogies, politically toxic?\\nOr could the Midlands UKIP vote shrink, as it did in 2010 to just 4% after a performance in the previous summer\\'s European elections which was impressive but not as emphatic as their clear victory in this year\\'s EU poll?\\nThe evidence of the local elections on the same day was that if you simply weigh the votes, it is the Conservatives who lose the most. But if you apply those numbers to real council areas (and Parliamentary constituencies?} you see it was Labour who suffered last May, failing to win majorities in target councils like Tamworth, Walsall and Worcester.\\nBut in the remaining eight months before polling, perhaps the greatest imponderable of all is what politicians call \"events\" in a region which has always been particularly prone to the ups and downs of the economy.\\nThe Birmingham and Solihull Chamber of Commerce has just reported a continuing surge in business confidence.\\n\"Try telling that to young people in my constituency\" says Ian Austin, the Labour MP for that key seat of Dudley North, where unemployment remains well above the national average and where wages continue to lag behind prices.\\nPut all these chess pieces together and you can see why even those politics watchers with the longest memories say they have never known an election as difficult to predict as this.\\nIt helps to explain why the mood clearly detectable in Labour\\'s ranks last week in Manchester was more uncertain than hopeful; why the Conservatives, behind Labour in the polls for so long, nevertheless closed their conference in Birmingham with more than a sneaking feeling that they could confound the sooth-sayers; and why I have it on good authority that senior Liberal Democrats are preparing to embark on their conference in Glasgow in a mood of innermost trepidation.\\nAs the end game draws near, a game of chess has never looked more like a game of chance.....'"
      ]
     },
     "execution_count": 362,
     "metadata": {},
     "output_type": "execute_result"
    }
   ],
   "source": [
    "text_3"
   ]
  },
  {
   "cell_type": "code",
   "execution_count": 363,
   "id": "d69a597d",
   "metadata": {},
   "outputs": [],
   "source": [
    "# Create a list of texts\n",
    "\n",
    "texts=[text_1,text_2,text_3]"
   ]
  },
  {
   "cell_type": "code",
   "execution_count": 364,
   "id": "0fe1e841",
   "metadata": {},
   "outputs": [
    {
     "name": "stdout",
     "output_type": "stream",
     "text": [
      "['chess, one of the oldest and most popular board games, played by two opponents on a checkered board with specially designed pieces of contrasting colours, commonly white and black. White moves first, after which the players alternate turns in accordance with fixed rules, each player attempting to force the opponent’s principal piece, the King, into checkmate—a position where it is unable to avoid capture.\\nChess first appeared in India about the 6th century AD and by the 10th century had spread from Asia to the Middle East and Europe. Since at least the 15th century, chess has been known as the “royal game” because of its popularity among the nobility. Rules and set design slowly evolved until both reached today’s standard in the early 19th century. Once an intellectual diversion favoured by the upper classes, chess went through an explosive growth in interest during the 20th century as professional and state-sponsored players competed for an officially recognized world championship title and increasingly lucrative tournament prizes. Organized chess tournaments, postal correspondence games, and Internet chess now attract men, women, and children around the world.\\nThis article provides an in-depth review of the history and the theory of the game by noted author and international grandmaster Andrew Soltis.\\nCharacteristics of the game\\nChess is played on a board of 64 squares arranged in eight vertical rows called files and eight horizontal rows called ranks. These squares alternate between two colours: one light, such as white, beige, or yellow; and the other dark, such as black or green. The board is set between the two opponents so that each player has a light-coloured square at the right-hand corner.\\nAlgebraic notation\\nIndividual moves and entire games can be recorded using one of several forms of notation. By far the most widely used form, algebraic (or coordinate) notation, identifies each square from the point of view of the player with the light-coloured pieces, called White. The eight ranks are numbered 1 through 8 beginning with the rank closest to White. The files are labeled a through h beginning with the file at White’s left hand. Each square has a name consisting of its letter and number, such as b3 or g8. Additionally, files a through d are referred to as the queenside, and files e through h as the kingside. See Figure 1.\\nGet a Britannica Premium subscription and gain access to exclusive content.\\nSubscribe Now\\nMoves\\nThe board represents a battlefield in which two armies fight to capture each other’s king. A player’s army consists of 16 pieces that begin play on the two ranks closest to that player. There are six different types of pieces: king, rook, bishop, queen, knight, and pawn; the pieces are distinguished by appearance and by how they move. The players alternate moves, White going first.\\nKing\\nWhite’s king begins the game on e1. Black’s king is opposite at e8. Each king can move one square in any direction; e.g., White’s king can move from e1 to d1, d2, e2, f2, or f1.\\nRook\\nEach player has two rooks (formerly also known as castles), which begin the game on the corner squares a1 and h1 for White, a8 and h8 for Black. A rook can move vertically or horizontally to any unobstructed square along the file or rank on which it is placed.\\nBishop\\nEach player has two bishops, and they begin the game at c1 and f1 for White, c8 and f8 for Black. A bishop can move to any unobstructed square on the diagonal on which it is placed. Therefore, each player has one bishop that travels only on light-coloured squares and one bishop that travels only on dark-coloured squares.\\nQueen\\nEach player has one queen, which combines the powers of the rook and bishop and is thus the most mobile and powerful piece. The White queen begins at d1, the Black queen at d8.\\nKnight\\nEach player has two knights, and they begin the game on the squares between their rooks and bishops—i.e., at b1 and g1 for White and b8 and g8 for Black. The knight has the trickiest move, an L-shape of two steps: first one square like a rook, then one square like a bishop, but always in a direction away from the starting square. A knight at e4 could move to f2, g3, g5, f6, d6, c5, c3, or d2. The knight has the unique ability to jump over any other piece to reach its destination. It always moves to a square of a different colour.\\nCapturing\\nThe king, rook, bishop, queen, and knight capture enemy pieces in the same manner that they move. For example, a White queen on d3 can capture a Black rook at h7 by moving to h7 and removing the enemy piece from the board. Pieces can capture only enemy pieces.\\nPawns\\nEach player has eight pawns, which begin the game on the second rank closest to each player; i.e., White’s pawns start at a2, b2, c2, and so on, while Black’s pawns start at a7, b7, c7, and so on. The pawns are unique in several ways. A pawn can move only forward; it can never retreat. It moves differently than it captures. A pawn moves to the square directly ahead of it but captures on the squares diagonally in front of it; e.g., a White pawn at f5 can move to f6 but can capture only on g6 or e6. An unmoved pawn has the option of moving one or two squares forward. This is the reason for another peculiar option, called en passant—that is, in passing—available to a pawn when an enemy pawn on an adjoining file advances two squares on its initial move and could have been captured had it moved only one square. The first pawn can take the advancing pawn en passant, as if it had advanced only one square. An en passant capture must be made then or not at all. Only pawns can be captured en passant. The last unique feature of the pawn occurs if it reaches the end of a file; it must then be promoted to—that is, exchanged for—a queen, rook, bishop, or knight.\\nCastling\\nThe one exception to the rule that a player may move only one piece at a time is a compound move of king and rook called castling. A player castles by shifting the king two squares in the direction of a rook, which is then placed on the square the king has crossed. For example, White can castle kingside by moving the king from e1 to g1 and the rook from h1 to f1. Castling is permitted only once in a game and is prohibited if the king or rook has previously moved or if any of the squares between them is occupied. Also, castling is not legal if the square the king starts on, crosses, or finishes on is attacked by an enemy piece.\\nRelative piece values\\nAssigning the pawn a value of 1, the values of the other pieces are approximately as follows: knight 3, bishop 3, rook 5, and queen 9. The relative values of knights and bishops vary with different pawn structures. Additionally, tactical considerations may temporarily override the pieces’ usual relative values. Material concerns are secondary to winning.\\nObject of the game\\nWhen a player moves a piece to a square on which it attacks the enemy king—that is, a square from which it could capture the king if the king is not shielded or moved—the king is said to be in check. The game is won when one king is in check and cannot avoid capture on the next move; this is called checkmate. A game also can end when a player, believing the situation to be hopeless, acknowledges defeat by resigning.\\nThere are three possible results in chess: win, lose, or draw. There are six ways a draw can come about: (1) by mutual consent, (2) when neither player has enough pieces to deliver checkmate, (3) when one player can check the enemy king endlessly (perpetual check), (4) when a player who is not in check has no legal move (stalemate), (5) when an identical position occurs three times with the same player having the right to move, and (6) when no piece has been captured and no pawn has been moved within a period of 50 moves.\\nIn competitive events, a victory is scored as one point, a draw as half a point, and a loss as no points.', 'Chess computers were first able to beat strong chess players in the late 1980s. Their most famous success was the victory of Deep Blue over then World Chess Champion Garry Kasparov in 1997, but there was some controversy over whether the match conditions favored the computer.\\nIn 2002–2003, three human–computer matches were drawn, but, whereas Deep Blue was a specialized machine, these were chess programs running on commercially available computers.\\nChess programs running on commercially available desktop computers won decisive victories against human players in matches in 2005 and 2006. The second of these, against then world champion Vladimir Kramnik is (as of 2019) the last major human-computer match.\\nSince that time, chess programs running on commercial hardware—more recently including mobile phones—have been able to defeat even the strongest human players.\\nMANIAC (1956)\\nIn 1956 MANIAC, developed at Los Alamos Scientific Laboratory, became the first computer to defeat a human in a chess-like game. Playing with the simplified Los Alamos rules, it defeated a novice in 23 moves.[1]\\nMac Hack VI (1966–1968)\\nIn 1966 MIT student Richard Greenblatt wrote the chess program Mac Hack VI using MIDAS macro assembly language on a Digital Equipment Corporation PDP-6 computer with 16K of memory. Mac Hack VI evaluated 10 positions per second.\\nIn 1967, several MIT students and professors (organized by Seymour Papert) challenged Dr. Hubert Dreyfus to play a game of chess against Mac Hack VI. Dreyfus, a professor of philosophy at MIT, wrote the book What Computers Can’t Do, questioning the computer\\'s ability to serve as a model for the human brain. He also asserted that no computer program could defeat even a 10-year-old child at chess. Dreyfus accepted the challenge. Herbert A. Simon, an artificial intelligence pioneer, watched the game. He said, \"it was a wonderful game—a real cliffhanger between two woodpushers with bursts of insights and fiendish plans ... great moments of drama and disaster that go in such games.\" The computer was beating Dreyfus when he found a move which could have captured the enemy queen. The only way the computer could get out of this was to keep Dreyfus in checks with its own queen until it could fork the queen and king, and then exchange them. That is what the computer did. Soon, Dreyfus was losing. Finally, the computer checkmated Dreyfus in the middle of the board.\\nIn the spring of 1967, Mac Hack VI played in the Boston Amateur championship, winning two games and drawing two games. Mac Hack VI beat a 1510 United States Chess Federation player. This was the first time a computer won a game in a human tournament. At the end of 1968, Mac Hack VI achieved a rating of 1529. The average rating in the USCF was near 1500.[2]\\nChess x.x (1968–1978)\\nIn 1968, Northwestern University students Larry Atkin, David Slate and Keith Gorlen began work on Chess (Northwestern University). On 14 April 1970 an exhibition game was played against Australian Champion Fred Flatow, the program running on a Control Data Corporation 6600 model. Flatow won easily. On 25 July 1976, Chess 4.5 scored 5–0 in the Class B (1600–1799) section of the 4th Paul Masson chess tournament in Saratoga, California. This was the first time a computer won a human tournament. Chess 4.5 was rated 1722. Chess 4.5 running on a Control Data Corporation CDC Cyber 175 supercomputer (2.1 megaflops) looked at less than 1500 positions per second. On 20 February 1977, Chess 4.5 won the 84th Minnesota Open Championship with 5 wins and 1 loss. It defeated expert Charles Fenner rated 2016. On 30 April 1978, Chess 4.6 scored 5–0 at the Twin Cities Open in Minneapolis. Chess 4.6 was rated 2040.[3] International Master Edward Lasker stated that year, \"My contention that computers cannot play like a master, I retract. They play absolutely alarmingly. I know, because I have lost games to 4.7.\"[4]\\nDavid Levy\\'s bet (1978)\\nMain article: David Levy (chess player) § Computer chess bet\\nFor a long time in the 1970s and 1980s, it remained an open question whether any chess program would ever be able to defeat the expertise of top humans. In 1968, International Master David Levy made a famous bet that no chess computer would be able to beat him within ten years. He won his bet in 1978 by beating Chess 4.7 (the strongest computer at the time).\\nCray Blitz (1981)\\nIn 1981, Cray Blitz scored 5–0 in the Mississippi State Championship. In round 4, it defeated Joe Sentef (2262) to become the first computer to beat a master in tournament play and the first computer to gain a master rating (2258).[5]\\nHiTech (1988)\\nIn 1988, HiTech won the Pennsylvania State Chess Championship with a score of 4½–½. HiTech defeated International Master Ed Formanek (2485).[6]\\nThe Harvard Cup Man versus Computer Chess Challenge was organized by Harvard University. There were six challenges from 1989 until 1995. They played in Boston and New York City. In each challenge the humans scored higher and the highest scorer was a human', '\"It\\'s like a game of chess,\" we used to say in days gone by.\\nEvery move our politicians made could be analysed and interpreted, not only for its significance in the wider electoral tournament but also for the possible moves, or false moves, it might induce from opponents.\\nThat all seems rather quaint now, viewed from our present standpoint where the table on which the chess board so precariously sits is being shaken by a constant bombardment of violent impacts: the very survival of the UK, the war on Islamic State and our future in or out of the EU.\\nNo wonder the chess pieces are wobbling already and could soon be simply tossed up in the air to land who knows where.\\nAnd now, of course, there is a new player in the game. UKIP thinks the contest has for too long been the preserve of the same exclusive club of elite players.\\n\"This is an unpredictable election,\" Ed Miliband told me in what could well go down as the understatement of last week in Manchester.\\nThere really are so many imponderables piled one on top of another that assessing the likely outcomes next May looks less and less like a chess game and more and more like a mug\\'s game.\\nFor a start, this era of coalition government means that with the two biggest parties short of a Commons majority, they both have rival sets of target seats on the go at the same time. So they are both in the position of having to fight defensive and offensive campaigns simultaneously.\\nOur list of marginal seats here in the West Midlands shows that behind their ultra-close knife-edge marginals, Labour have some other narrow majorities to worry about before they start taking the Conservatives\\' chessmen off the board.\\nThese numbers underline the extend to which the Midlands has traditionally been a predominantly two-party contest.\\nLiberal Democrat Lorely Burt stunned the Conservatives when she \"crept in under the radar\" in 2005 but now she has her work cut out to defend a majority of just 175 over the Conservatives.\\nHow will the emergence of the Green Party, now the official opposition on Solihull Council, affect the chances of the larger parties?\\nLorely Burt\\'s party colleague John Hemming has turned Birmingham Yardley into something of a personal fiefdom, but Labour will be fighting hard to overturn his 3,002 majority and regain the seat he captured from former Education Secretary Estelle Morris in 2005.\\nThe Liberal Democrats\\' only other Midlands seat is in Cheltenham where Martin Horwood will defend a more comfortable majority of 4,920 over the Conservatives in what is still the home of the Midlands\\' only Liberal Democrat-controlled council.\\nWith confident predictions that the Liberal Democrats will lose many seats, perhaps it is to their traditional \"core\" constituencies that they may have to turn as they fight to limit the damage.\\nAnd into this otherwise two-way political street comes the new kid on the blog, UKIP, arguably the biggest imponderable of all.\\nIf, as Nigel Farage says, they are not a repository simply for disillusioned Tory votes but a genuine mass party with broad appeal with their \"tanks on Labour\\'s lawn\", how might they upset the two-party chess board?\\nTake Dudley North, for example, where Labour\\'s wafer-thin majority over the Conservatives faces the additional challenge of the UKIP candidate Bill Etheridge MEP, who has turned his borough into a local power base.\\n\\'Politically toxic\\'\\nOn the other hand, how will the Conservatives\\' tiny majority over Labour in Warwickshire North fare against not just an experienced Labour candidate, former minister Mike O\\'Brien, but also UKIP who have made great play of opposition to high-speed rail in an area where HS2 has become, to mix my analogies, politically toxic?\\nOr could the Midlands UKIP vote shrink, as it did in 2010 to just 4% after a performance in the previous summer\\'s European elections which was impressive but not as emphatic as their clear victory in this year\\'s EU poll?\\nThe evidence of the local elections on the same day was that if you simply weigh the votes, it is the Conservatives who lose the most. But if you apply those numbers to real council areas (and Parliamentary constituencies?} you see it was Labour who suffered last May, failing to win majorities in target councils like Tamworth, Walsall and Worcester.\\nBut in the remaining eight months before polling, perhaps the greatest imponderable of all is what politicians call \"events\" in a region which has always been particularly prone to the ups and downs of the economy.\\nThe Birmingham and Solihull Chamber of Commerce has just reported a continuing surge in business confidence.\\n\"Try telling that to young people in my constituency\" says Ian Austin, the Labour MP for that key seat of Dudley North, where unemployment remains well above the national average and where wages continue to lag behind prices.\\nPut all these chess pieces together and you can see why even those politics watchers with the longest memories say they have never known an election as difficult to predict as this.\\nIt helps to explain why the mood clearly detectable in Labour\\'s ranks last week in Manchester was more uncertain than hopeful; why the Conservatives, behind Labour in the polls for so long, nevertheless closed their conference in Birmingham with more than a sneaking feeling that they could confound the sooth-sayers; and why I have it on good authority that senior Liberal Democrats are preparing to embark on their conference in Glasgow in a mood of innermost trepidation.\\nAs the end game draws near, a game of chess has never looked more like a game of chance.....']\n"
     ]
    }
   ],
   "source": [
    "print(texts)"
   ]
  },
  {
   "cell_type": "markdown",
   "id": "4589ddb5",
   "metadata": {},
   "source": [
    "## Creating a word list"
   ]
  },
  {
   "cell_type": "code",
   "execution_count": 365,
   "id": "310f17d2",
   "metadata": {},
   "outputs": [],
   "source": [
    "words_list=[]\n",
    "for text in texts:\n",
    "    doc=nlp(text)\n",
    "    text_words=[]\n",
    "    for token in doc:\n",
    "        if token.is_stop==False and token.is_punct==False and token.like_num==False and token.text!='\\n':\n",
    "            text_words.append(token.lemma_)\n",
    "    words_list.append(text_words)"
   ]
  },
  {
   "cell_type": "code",
   "execution_count": 366,
   "id": "e6de1482",
   "metadata": {},
   "outputs": [
    {
     "name": "stdout",
     "output_type": "stream",
     "text": [
      "[['chess', 'old', 'popular', 'board', 'game', 'play', 'opponent', 'checkered', 'board', 'specially', 'design', 'piece', 'contrast', 'colour', 'commonly', 'white', 'black', 'white', 'move', 'player', 'alternate', 'turn', 'accordance', 'fix', 'rule', 'player', 'attempt', 'force', 'opponent', 'principal', 'piece', 'King', 'checkmate', 'position', 'unable', 'avoid', 'capture', 'Chess', 'appear', 'India', 'century', 'ad', 'century', 'spread', 'Asia', 'Middle', 'East', 'Europe', 'century', 'chess', 'know', 'royal', 'game', 'popularity', 'nobility', 'rule', 'set', 'design', 'slowly', 'evolve', 'reach', 'today', 'standard', 'early', 'century', 'intellectual', 'diversion', 'favour', 'upper', 'class', 'chess', 'go', 'explosive', 'growth', 'interest', 'century', 'professional', 'state', 'sponsor', 'player', 'compete', 'officially', 'recognize', 'world', 'championship', 'title', 'increasingly', 'lucrative', 'tournament', 'prize', 'organized', 'chess', 'tournament', 'postal', 'correspondence', 'game', 'internet', 'chess', 'attract', 'man', 'woman', 'child', 'world', 'article', 'provide', 'depth', 'review', 'history', 'theory', 'game', 'note', 'author', 'international', 'grandmaster', 'Andrew', 'Soltis', 'characteristic', 'game', 'Chess', 'play', 'board', 'square', 'arrange', 'vertical', 'row', 'call', 'file', 'horizontal', 'row', 'call', 'rank', 'square', 'alternate', 'colour', 'light', 'white', 'beige', 'yellow', 'dark', 'black', 'green', 'board', 'set', 'opponent', 'player', 'light', 'coloured', 'square', 'right', 'hand', 'corner', 'algebraic', 'notation', 'individual', 'move', 'entire', 'game', 'record', 'form', 'notation', 'far', 'widely', 'form', 'algebraic', 'coordinate', 'notation', 'identify', 'square', 'point', 'view', 'player', 'light', 'colour', 'piece', 'call', 'White', 'rank', 'number', 'beginning', 'rank', 'close', 'White', 'file', 'label', 'h', 'begin', 'file', 'White', 'leave', 'hand', 'square', 'consist', 'letter', 'number', 'b3', 'g8', 'additionally', 'file', 'd', 'refer', 'queenside', 'file', 'e', 'h', 'kingside', 'Figure', 'Britannica', 'Premium', 'subscription', 'gain', 'access', 'exclusive', 'content', 'Subscribe', 'move', 'board', 'represent', 'battlefield', 'army', 'fight', 'capture', 'king', 'player', 'army', 'consist', 'piece', 'begin', 'play', 'rank', 'close', 'player', 'different', 'type', 'piece', 'king', 'rook', 'bishop', 'queen', 'knight', 'pawn', 'piece', 'distinguish', 'appearance', 'player', 'alternate', 'move', 'White', 'go', 'King', 'White', 'king', 'begin', 'game', 'e1', 'black', 'king', 'opposite', 'e8', 'king', 'square', 'direction', 'e.g.', 'White', 'king', 'e1', 'd1', 'd2', 'e2', 'f2', 'f1', 'Rook', 'player', 'rook', 'know', 'castle', 'begin', 'game', 'corner', 'square', 'a1', 'h1', 'White', 'a8', 'h8', 'Black', 'rook', 'vertically', 'horizontally', 'unobstructed', 'square', 'file', 'rank', 'place', 'Bishop', 'player', 'bishop', 'begin', 'game', 'c1', 'f1', 'White', 'c8', 'f8', 'Black', 'bishop', 'unobstructed', 'square', 'diagonal', 'place', 'player', 'bishop', 'travel', 'light', 'colour', 'square', 'bishop', 'travel', 'dark', 'colour', 'square', 'Queen', 'player', 'queen', 'combine', 'power', 'rook', 'bishop', 'mobile', 'powerful', 'piece', 'White', 'queen', 'begin', 'd1', 'Black', 'queen', 'd8', 'Knight', 'player', 'knight', 'begin', 'game', 'square', 'rook', 'bishop', 'i.e.', 'b1', 'g1', 'White', 'b8', 'g8', 'Black', 'knight', 'tricky', 'l', 'shape', 'step', 'square', 'like', 'rook', 'square', 'like', 'bishop', 'direction', 'away', 'starting', 'square', 'knight', 'e4', 'f2', 'g3', 'g5', 'f6', 'd6', 'c5', 'c3', 'd2', 'knight', 'unique', 'ability', 'jump', 'piece', 'reach', 'destination', 'move', 'square', 'different', 'colour', 'Capturing', 'king', 'rook', 'bishop', 'queen', 'knight', 'capture', 'enemy', 'piece', 'manner', 'example', 'White', 'queen', 'd3', 'capture', 'Black', 'rook', 'h7', 'move', 'h7', 'remove', 'enemy', 'piece', 'board', 'piece', 'capture', 'enemy', 'piece', 'Pawns', 'player', 'pawn', 'begin', 'game', 'rank', 'close', 'player', 'i.e.', 'White', 'pawn', 'start', 'a2', 'b2', 'c2', 'Black', 'pawn', 'start', 'a7', 'b7', 'c7', 'pawn', 'unique', 'way', 'pawn', 'forward', 'retreat', 'move', 'differently', 'capture', 'pawn', 'move', 'square', 'directly', 'ahead', 'capture', 'square', 'diagonally', 'e.g.', 'white', 'pawn', 'f5', 'f6', 'capture', 'g6', 'e6', 'unmoved', 'pawn', 'option', 'move', 'square', 'forward', 'reason', 'peculiar', 'option', 'call', 'en', 'passant', 'pass', 'available', 'pawn', 'enemy', 'pawn', 'adjoining', 'file', 'advance', 'square', 'initial', 'capture', 'move', 'square', 'pawn', 'advancing', 'pawn', 'en', 'passant', 'advance', 'square', 'en', 'passant', 'capture', 'pawn', 'capture', 'en', 'passant', 'unique', 'feature', 'pawn', 'occur', 'reach', 'end', 'file', 'promote', 'exchange', 'queen', 'rook', 'bishop', 'knight', 'Castling', 'exception', 'rule', 'player', 'piece', 'time', 'compound', 'king', 'rook', 'call', 'castle', 'player', 'castle', 'shift', 'king', 'square', 'direction', 'rook', 'place', 'square', 'king', 'cross', 'example', 'White', 'castle', 'kingside', 'move', 'king', 'e1', 'g1', 'rook', 'h1', 'f1', 'castling', 'permit', 'game', 'prohibit', 'king', 'rook', 'previously', 'move', 'square', 'occupy', 'castle', 'legal', 'square', 'king', 'start', 'crosse', 'finish', 'attack', 'enemy', 'piece', 'relative', 'piece', 'value', 'assign', 'pawn', 'value', 'value', 'piece', 'approximately', 'follow', 'knight', 'bishop', 'rook', 'queen', 'relative', 'value', 'knight', 'bishop', 'vary', 'different', 'pawn', 'structure', 'additionally', 'tactical', 'consideration', 'temporarily', 'override', 'piece', 'usual', 'relative', 'value', 'material', 'concern', 'secondary', 'win', 'Object', 'game', 'player', 'move', 'piece', 'square', 'attack', 'enemy', 'king', 'square', 'capture', 'king', 'king', 'shield', 'move', 'king', 'say', 'check', 'game', 'win', 'king', 'check', 'avoid', 'capture', 'call', 'checkmate', 'game', 'end', 'player', 'believe', 'situation', 'hopeless', 'acknowledge', 'defeat', 'resign', 'possible', 'result', 'chess', 'win', 'lose', 'draw', 'way', 'draw', 'come', 'mutual', 'consent', 'player', 'piece', 'deliver', 'checkmate', 'player', 'check', 'enemy', 'king', 'endlessly', 'perpetual', 'check', 'player', 'check', 'legal', 'stalemate', 'identical', 'position', 'occur', 'time', 'player', 'have', 'right', 'piece', 'capture', 'pawn', 'move', 'period', 'move', 'competitive', 'event', 'victory', 'score', 'point', 'draw', 'half', 'point', 'loss', 'point'], ['chess', 'computer', 'able', 'beat', 'strong', 'chess', 'player', 'late', '1980', 'famous', 'success', 'victory', 'Deep', 'Blue', 'World', 'Chess', 'Champion', 'Garry', 'Kasparov', 'controversy', 'match', 'condition', 'favor', 'computer', '2002–2003', 'human', 'computer', 'match', 'draw', 'Deep', 'Blue', 'specialized', 'machine', 'chess', 'program', 'run', 'commercially', 'available', 'computer', 'Chess', 'program', 'run', 'commercially', 'available', 'desktop', 'computer', 'win', 'decisive', 'victory', 'human', 'player', 'match', 'world', 'champion', 'Vladimir', 'Kramnik', 'major', 'human', 'computer', 'match', 'time', 'chess', 'program', 'run', 'commercial', 'hardware', 'recently', 'include', 'mobile', 'phone', 'able', 'defeat', 'strong', 'human', 'player', 'MANIAC', 'MANIAC', 'develop', 'Los', 'Alamos', 'Scientific', 'Laboratory', 'computer', 'defeat', 'human', 'chess', 'like', 'game', 'play', 'simplified', 'Los', 'Alamos', 'rule', 'defeat', 'novice', 'moves.[1', 'Mac', 'Hack', 'VI', '1966–1968', 'MIT', 'student', 'Richard', 'Greenblatt', 'write', 'chess', 'program', 'Mac', 'Hack', 'VI', 'MIDAS', 'macro', 'assembly', 'language', 'Digital', 'Equipment', 'Corporation', 'PDP-6', 'computer', 'k', 'memory', 'Mac', 'Hack', 'VI', 'evaluate', 'position', 'MIT', 'student', 'professor', 'organize', 'Seymour', 'Papert', 'challenge', 'Dr.', 'Hubert', 'Dreyfus', 'play', 'game', 'chess', 'Mac', 'Hack', 'VI', 'Dreyfus', 'professor', 'philosophy', 'MIT', 'write', 'book', 'computer', 'question', 'computer', 'ability', 'serve', 'model', 'human', 'brain', 'assert', 'computer', 'program', 'defeat', 'year', 'old', 'child', 'chess', 'Dreyfus', 'accept', 'challenge', 'Herbert', 'A.', 'Simon', 'artificial', 'intelligence', 'pioneer', 'watch', 'game', 'say', 'wonderful', 'game', 'real', 'cliffhanger', 'woodpusher', 'burst', 'insight', 'fiendish', 'plan', 'great', 'moment', 'drama', 'disaster', 'game', 'computer', 'beat', 'Dreyfus', 'find', 'capture', 'enemy', 'queen', 'way', 'computer', 'Dreyfus', 'check', 'queen', 'fork', 'queen', 'king', 'exchange', 'computer', 'soon', 'Dreyfus', 'lose', 'finally', 'computer', 'checkmate', 'Dreyfus', 'middle', 'board', 'spring', 'Mac', 'Hack', 'VI', 'play', 'Boston', 'Amateur', 'championship', 'win', 'game', 'draw', 'game', 'Mac', 'Hack', 'VI', 'beat', 'United', 'States', 'Chess', 'Federation', 'player', 'time', 'computer', 'win', 'game', 'human', 'tournament', 'end', 'Mac', 'Hack', 'VI', 'achieve', 'rating', 'average', 'rating', 'uscf', 'near', '1500.[2', 'Chess', 'x.x', '1968–1978', 'Northwestern', 'University', 'student', 'Larry', 'Atkin', 'David', 'Slate', 'Keith', 'Gorlen', 'begin', 'work', 'Chess', 'Northwestern', 'University', 'April', 'exhibition', 'game', 'play', 'Australian', 'Champion', 'Fred', 'Flatow', 'program', 'run', 'Control', 'Data', 'Corporation', 'model', 'flatow', 'win', 'easily', 'July', 'Chess', 'score', '5–0', 'Class', 'B', '1600–1799', 'section', 'Paul', 'Masson', 'chess', 'tournament', 'Saratoga', 'California', 'time', 'computer', 'win', 'human', 'tournament', 'chess', 'rate', 'chess', 'run', 'Control', 'Data', 'Corporation', 'CDC', 'Cyber', 'supercomputer', 'megaflop', 'look', 'position', 'February', 'Chess', 'win', 'Minnesota', 'Open', 'Championship', 'win', 'loss', 'defeat', 'expert', 'Charles', 'Fenner', 'rate', 'April', 'Chess', 'score', '5–0', 'Twin', 'Cities', 'Open', 'Minneapolis', 'Chess', 'rate', '2040.[3', 'International', 'Master', 'Edward', 'Lasker', 'state', 'year', 'contention', 'computer', 'play', 'like', 'master', 'retract', 'play', 'absolutely', 'alarmingly', 'know', 'lose', 'game', '4.7.\"[4', 'David', 'Levy', 'bet', 'main', 'article', 'David', 'Levy', 'chess', 'player', 'Computer', 'chess', 'bet', 'long', 'time', '1970', '1980', 'remain', 'open', 'question', 'chess', 'program', 'able', 'defeat', 'expertise', 'human', 'International', 'Master', 'David', 'Levy', 'famous', 'bet', 'chess', 'computer', 'able', 'beat', 'year', 'win', 'bet', 'beat', 'Chess', 'strong', 'computer', 'time', 'Cray', 'Blitz', 'Cray', 'Blitz', 'score', '5–0', 'Mississippi', 'State', 'Championship', 'round', 'defeat', 'Joe', 'Sentef', 'computer', 'beat', 'master', 'tournament', 'play', 'computer', 'gain', 'master', 'rating', '2258).[5', 'HiTech', 'HiTech', 'win', 'Pennsylvania', 'State', 'Chess', 'Championship', 'score', '4½–½.', 'HiTech', 'defeat', 'International', 'Master', 'Ed', 'Formanek', '2485).[6', 'Harvard', 'Cup', 'Man', 'versus', 'Computer', 'Chess', 'Challenge', 'organize', 'Harvard', 'University', 'challenge', 'play', 'Boston', 'New', 'York', 'City', 'challenge', 'human', 'score', 'higher', 'high', 'scorer', 'human'], ['like', 'game', 'chess', 'day', 'go', 'politician', 'analyse', 'interpret', 'significance', 'wide', 'electoral', 'tournament', 'possible', 'move', 'false', 'move', 'induce', 'opponent', 'quaint', 'view', 'present', 'standpoint', 'table', 'chess', 'board', 'precariously', 'sit', 'shake', 'constant', 'bombardment', 'violent', 'impact', 'survival', 'UK', 'war', 'Islamic', 'State', 'future', 'EU', 'wonder', 'chess', 'piece', 'wobble', 'soon', 'simply', 'toss', 'air', 'land', 'know', 'course', 'new', 'player', 'game', 'UKIP', 'think', 'contest', 'long', 'preserve', 'exclusive', 'club', 'elite', 'player', 'unpredictable', 'election', 'Ed', 'Miliband', 'tell', 'understatement', 'week', 'Manchester', 'imponderable', 'pile', 'assess', 'likely', 'outcome', 'look', 'like', 'chess', 'game', 'like', 'mug', 'game', 'start', 'era', 'coalition', 'government', 'mean', 'big', 'party', 'short', 'Commons', 'majority', 'rival', 'set', 'target', 'seat', 'time', 'position', 'have', 'fight', 'defensive', 'offensive', 'campaign', 'simultaneously', 'list', 'marginal', 'seat', 'West', 'Midlands', 'show', 'ultra', 'close', 'knife', 'edge', 'marginal', 'Labour', 'narrow', 'majority', 'worry', 'start', 'take', 'Conservatives', 'chessman', 'board', 'number', 'underline', 'extend', 'Midlands', 'traditionally', 'predominantly', 'party', 'contest', 'Liberal', 'Democrat', 'Lorely', 'Burt', 'stun', 'Conservatives', 'creep', 'radar', 'work', 'cut', 'defend', 'majority', 'Conservatives', 'emergence', 'Green', 'Party', 'official', 'opposition', 'Solihull', 'Council', 'affect', 'chance', 'large', 'party', 'Lorely', 'Burt', 'party', 'colleague', 'John', 'Hemming', 'turn', 'Birmingham', 'Yardley', 'personal', 'fiefdom', 'labour', 'fight', 'hard', 'overturn', 'majority', 'regain', 'seat', 'capture', 'Education', 'Secretary', 'Estelle', 'Morris', 'Liberal', 'Democrats', 'Midlands', 'seat', 'Cheltenham', 'Martin', 'Horwood', 'defend', 'comfortable', 'majority', 'Conservatives', 'home', 'Midlands', 'Liberal', 'Democrat', 'control', 'council', 'confident', 'prediction', 'Liberal', 'Democrats', 'lose', 'seat', 'traditional', 'core', 'constituency', 'turn', 'fight', 'limit', 'damage', 'way', 'political', 'street', 'come', 'new', 'kid', 'blog', 'UKIP', 'arguably', 'big', 'imponderable', 'Nigel', 'Farage', 'say', 'repository', 'simply', 'disillusioned', 'tory', 'vote', 'genuine', 'mass', 'party', 'broad', 'appeal', 'tank', 'Labour', 'lawn', 'upset', 'party', 'chess', 'board', 'Dudley', 'North', 'example', 'Labour', 'wafer', 'thin', 'majority', 'Conservatives', 'face', 'additional', 'challenge', 'UKIP', 'candidate', 'Bill', 'Etheridge', 'MEP', 'turn', 'borough', 'local', 'power', 'base', 'politically', 'toxic', 'hand', 'Conservatives', 'tiny', 'majority', 'Labour', 'Warwickshire', 'North', 'fare', 'experienced', 'Labour', 'candidate', 'minister', 'Mike', \"O'Brien\", 'UKIP', 'great', 'play', 'opposition', 'high', 'speed', 'rail', 'area', 'HS2', 'mix', 'analogy', 'politically', 'toxic', 'Midlands', 'UKIP', 'vote', 'shrink', 'performance', 'previous', 'summer', 'european', 'election', 'impressive', 'emphatic', 'clear', 'victory', 'year', 'EU', 'poll', 'evidence', 'local', 'election', 'day', 'simply', 'weigh', 'vote', 'Conservatives', 'lose', 'apply', 'number', 'real', 'council', 'area', 'parliamentary', 'constituency', 'Labour', 'suffer', 'fail', 'win', 'majority', 'target', 'council', 'like', 'Tamworth', 'Walsall', 'Worcester', 'remain', 'month', 'poll', 'great', 'imponderable', 'politician', 'event', 'region', 'particularly', 'prone', 'up', 'down', 'economy', 'Birmingham', 'Solihull', 'Chamber', 'Commerce', 'report', 'continue', 'surge', 'business', 'confidence', 'try', 'tell', 'young', 'people', 'constituency', 'say', 'Ian', 'Austin', 'Labour', 'MP', 'key', 'seat', 'Dudley', 'North', 'unemployment', 'remain', 'national', 'average', 'wage', 'continue', 'lag', 'price', 'chess', 'piece', 'politic', 'watcher', 'long', 'memory', 'know', 'election', 'difficult', 'predict', 'help', 'explain', 'mood', 'clearly', 'detectable', 'Labour', 'rank', 'week', 'Manchester', 'uncertain', 'hopeful', 'Conservatives', 'Labour', 'poll', 'long', 'close', 'conference', 'Birmingham', 'sneaking', 'feeling', 'confound', 'sooth', 'sayer', 'good', 'authority', 'senior', 'Liberal', 'Democrats', 'prepare', 'embark', 'conference', 'Glasgow', 'mood', 'innermost', 'trepidation', 'end', 'game', 'draw', 'near', 'game', 'chess', 'look', 'like', 'game', 'chance']]\n"
     ]
    }
   ],
   "source": [
    "print(words_list)"
   ]
  },
  {
   "cell_type": "code",
   "execution_count": 367,
   "id": "ad24c3a3",
   "metadata": {},
   "outputs": [
    {
     "name": "stdout",
     "output_type": "stream",
     "text": [
      "3\n"
     ]
    }
   ],
   "source": [
    "print(len(words_list))"
   ]
  },
  {
   "cell_type": "code",
   "execution_count": 368,
   "id": "7fd0d7c3",
   "metadata": {},
   "outputs": [
    {
     "name": "stdout",
     "output_type": "stream",
     "text": [
      "686\n"
     ]
    }
   ],
   "source": [
    "print(len(words_list[0]))"
   ]
  },
  {
   "cell_type": "code",
   "execution_count": 369,
   "id": "dd239526",
   "metadata": {},
   "outputs": [
    {
     "name": "stdout",
     "output_type": "stream",
     "text": [
      "468\n"
     ]
    }
   ],
   "source": [
    "print(len(words_list[1]))"
   ]
  },
  {
   "cell_type": "code",
   "execution_count": 370,
   "id": "e7140e11",
   "metadata": {},
   "outputs": [
    {
     "name": "stdout",
     "output_type": "stream",
     "text": [
      "432\n"
     ]
    }
   ],
   "source": [
    "print(len(words_list[2]))"
   ]
  },
  {
   "cell_type": "markdown",
   "id": "e1d363c5",
   "metadata": {},
   "source": [
    "## Creating a corpus"
   ]
  },
  {
   "cell_type": "code",
   "execution_count": 371,
   "id": "fb696744",
   "metadata": {},
   "outputs": [],
   "source": [
    "corpus=[]\n",
    "from gensim.corpora import Dictionary"
   ]
  },
  {
   "cell_type": "code",
   "execution_count": 372,
   "id": "51777766",
   "metadata": {},
   "outputs": [
    {
     "data": {
      "text/plain": [
       "gensim.corpora.dictionary.Dictionary"
      ]
     },
     "execution_count": 372,
     "metadata": {},
     "output_type": "execute_result"
    }
   ],
   "source": [
    "dict=Dictionary(words_list)\n",
    "type(dict)"
   ]
  },
  {
   "cell_type": "code",
   "execution_count": 373,
   "id": "aa76df6f",
   "metadata": {},
   "outputs": [],
   "source": [
    "for word in words_list:\n",
    "    corpus.append(dict.doc2bow(word))"
   ]
  },
  {
   "cell_type": "code",
   "execution_count": 374,
   "id": "ad8e042d",
   "metadata": {},
   "outputs": [
    {
     "name": "stdout",
     "output_type": "stream",
     "text": [
      "[[(0, 1), (1, 1), (2, 1), (3, 6), (4, 1), (5, 1), (6, 1), (7, 2), (8, 1), (9, 1), (10, 1), (11, 1), (12, 2), (13, 1), (14, 1), (15, 1), (16, 1), (17, 1), (18, 1), (19, 1), (20, 1), (21, 1), (22, 13), (23, 1), (24, 1), (25, 1), (26, 1), (27, 1), (28, 1), (29, 1), (30, 1), (31, 1), (32, 2), (33, 1), (34, 2), (35, 1), (36, 1), (37, 2), (38, 3), (39, 1), (40, 1), (41, 1), (42, 2), (43, 1), (44, 1), (45, 1), (46, 2), (47, 1), (48, 1), (49, 1), (50, 1), (51, 2), (52, 1), (53, 1), (54, 1), (55, 1), (56, 1), (57, 1), (58, 1), (59, 8), (60, 1), (61, 1), (62, 1), (63, 12), (64, 3), (65, 6), (66, 1), (67, 1), (68, 1), (69, 1), (70, 1), (71, 1), (72, 6), (73, 14), (74, 5), (75, 1), (76, 5), (77, 1), (78, 1), (79, 5), (80, 1), (81, 3), (82, 6), (83, 1), (84, 1), (85, 3), (86, 6), (87, 1), (88, 1), (89, 1), (90, 1), (91, 1), (92, 1), (93, 1), (94, 1), (95, 1), (96, 1), (97, 2), (98, 1), (99, 1), (100, 1), (101, 2), (102, 1), (103, 1), (104, 1), (105, 1), (106, 2), (107, 2), (108, 1), (109, 1), (110, 1), (111, 2), (112, 1), (113, 1), (114, 1), (115, 2), (116, 1), (117, 1), (118, 1), (119, 3), (120, 1), (121, 3), (122, 1), (123, 1), (124, 1), (125, 3), (126, 1), (127, 2), (128, 3), (129, 1), (130, 1), (131, 1), (132, 1), (133, 1), (134, 4), (135, 2), (136, 1), (137, 7), (138, 1), (139, 1), (140, 1), (141, 2), (142, 1), (143, 1), (144, 1), (145, 1), (146, 3), (147, 2), (148, 1), (149, 2), (150, 1), (151, 1), (152, 1), (153, 1), (154, 1), (155, 8), (156, 1), (157, 1), (158, 1), (159, 1), (160, 2), (161, 2), (162, 2), (163, 1), (164, 1), (165, 1), (166, 2), (167, 1), (168, 15), (169, 2), (170, 1), (171, 1), (172, 1), (173, 2), (174, 2), (175, 2), (176, 1), (177, 1), (178, 2), (179, 1), (180, 1), (181, 1), (182, 1), (183, 1), (184, 2), (185, 1), (186, 1), (187, 1), (188, 1), (189, 1), (190, 1), (191, 1), (192, 1), (193, 1), (194, 1), (195, 19), (196, 2), (197, 9), (198, 2), (199, 1), (200, 1), (201, 1), (202, 2), (203, 1), (204, 4), (205, 2), (206, 1), (207, 1), (208, 1), (209, 1), (210, 1), (211, 1), (212, 1), (213, 16), (214, 1), (215, 1), (216, 3), (217, 1), (218, 2), (219, 1), (220, 2), (221, 1), (222, 1), (223, 3), (224, 1), (225, 2), (226, 1), (227, 1), (228, 1), (229, 4), (230, 18), (231, 1), (232, 1), (233, 1), (234, 1), (235, 20), (236, 3), (237, 3), (238, 23), (239, 4), (240, 1), (241, 1), (242, 2), (243, 1), (244, 1), (245, 1), (246, 1), (247, 1), (248, 1), (249, 1), (250, 1), (251, 1), (252, 1), (253, 1), (254, 8), (255, 1), (256, 6), (257, 3), (258, 1), (259, 1), (260, 1), (261, 1), (262, 3), (263, 1), (264, 1), (265, 1), (266, 1), (267, 1), (268, 1), (269, 2), (270, 14), (271, 2), (272, 1), (273, 3), (274, 1), (275, 1), (276, 1), (277, 2), (278, 1), (279, 1), (280, 1), (281, 1), (282, 1), (283, 1), (284, 1), (285, 1), (286, 28), (287, 1), (288, 1), (289, 3), (290, 1), (291, 1), (292, 1), (293, 1), (294, 1), (295, 1), (296, 1), (297, 1), (298, 2), (299, 1), (300, 1), (301, 2), (302, 2), (303, 1), (304, 1), (305, 1), (306, 1), (307, 3), (308, 1), (309, 2), (310, 1), (311, 1), (312, 5), (313, 1), (314, 1), (315, 1), (316, 1), (317, 1), (318, 2), (319, 4), (320, 1), (321, 3), (322, 1), (323, 2), (324, 1)], [(7, 12), (27, 1), (44, 1), (50, 2), (59, 1), (65, 1), (73, 1), (77, 1), (79, 1), (81, 1), (82, 15), (83, 1), (112, 8), (125, 2), (135, 1), (137, 1), (143, 1), (167, 1), (168, 10), (195, 1), (198, 1), (205, 2), (206, 2), (207, 1), (212, 1), (222, 1), (237, 8), (238, 5), (242, 2), (254, 3), (273, 1), (274, 1), (275, 5), (291, 1), (298, 5), (301, 4), (316, 2), (318, 1), (321, 9), (323, 1), (325, 1), (326, 1), (327, 1), (328, 1), (329, 1), (330, 2), (331, 1), (332, 1), (333, 1), (334, 1), (335, 1), (336, 1), (337, 3), (338, 1), (339, 2), (340, 1), (341, 2), (342, 1), (343, 1), (344, 1), (345, 2), (346, 2), (347, 2), (348, 1), (349, 1), (350, 1), (351, 2), (352, 3), (353, 1), (354, 1), (355, 1), (356, 1), (357, 2), (358, 2), (359, 3), (360, 2), (361, 1), (362, 1), (363, 2), (364, 4), (365, 2), (366, 1), (367, 1), (368, 7), (369, 1), (370, 1), (371, 1), (372, 1), (373, 1), (374, 1), (375, 1), (376, 1), (377, 1), (378, 1), (379, 1), (380, 1), (381, 7), (382, 2), (383, 1), (384, 3), (385, 1), (386, 3), (387, 1), (388, 1), (389, 1), (390, 1), (391, 1), (392, 1), (393, 1), (394, 1), (395, 3), (396, 2), (397, 2), (398, 1), (399, 3), (400, 7), (401, 1), (402, 1), (403, 3), (404, 1), (405, 1), (406, 1), (407, 1), (408, 2), (409, 2), (410, 1), (411, 1), (412, 1), (413, 1), (414, 1), (415, 1), (416, 1), (417, 1), (418, 1), (419, 1), (420, 1), (421, 2), (422, 1), (423, 1), (424, 1), (425, 3), (426, 7), (427, 1), (428, 1), (429, 1), (430, 4), (431, 1), (432, 1), (433, 1), (434, 1), (435, 1), (436, 1), (437, 1), (438, 1), (439, 6), (440, 4), (441, 1), (442, 1), (443, 1), (444, 4), (445, 1), (446, 1), (447, 1), (448, 2), (449, 22), (450, 1), (451, 1), (452, 1), (453, 1), (454, 1), (455, 1), (456, 1), (457, 1), (458, 1), (459, 1), (460, 1), (461, 1), (462, 1), (463, 2), (464, 1), (465, 1), (466, 1), (467, 1), (468, 1), (469, 1), (470, 1), (471, 1), (472, 1), (473, 1), (474, 11), (475, 1), (476, 1), (477, 1), (478, 1), (479, 1), (480, 1), (481, 1), (482, 1), (483, 1), (484, 1), (485, 1), (486, 1), (487, 3), (488, 4), (489, 1), (490, 1), (491, 1), (492, 2), (493, 1), (494, 1), (495, 1), (496, 1), (497, 1), (498, 2), (499, 1), (500, 1), (501, 1), (502, 1), (503, 2), (504, 7), (505, 2), (506, 3), (507, 3), (508, 1), (509, 1), (510, 1), (511, 1), (512, 1), (513, 5), (514, 1), (515, 1), (516, 1), (517, 1), (518, 1), (519, 1), (520, 1), (521, 3), (522, 3), (523, 1), (524, 1), (525, 1), (526, 1), (527, 1), (528, 1), (529, 1), (530, 1), (531, 2), (532, 1), (533, 3)], [(65, 3), (73, 1), (82, 7), (85, 2), (89, 1), (125, 1), (135, 1), (139, 1), (141, 1), (144, 1), (154, 3), (168, 7), (169, 1), (178, 1), (179, 1), (198, 2), (205, 5), (206, 2), (213, 2), (218, 2), (223, 1), (235, 2), (237, 1), (238, 2), (242, 1), (243, 1), (245, 1), (256, 1), (274, 2), (277, 1), (289, 2), (298, 1), (301, 1), (304, 3), (316, 1), (317, 1), (318, 1), (321, 1), (369, 1), (421, 1), (438, 1), (444, 1), (470, 2), (472, 1), (481, 3), (482, 2), (490, 1), (495, 1), (508, 1), (510, 2), (518, 1), (530, 1), (533, 1), (534, 1), (535, 1), (536, 3), (537, 2), (538, 1), (539, 1), (540, 1), (541, 1), (542, 8), (543, 1), (544, 2), (545, 3), (546, 2), (547, 2), (548, 1), (549, 1), (550, 1), (551, 1), (552, 1), (553, 1), (554, 1), (555, 1), (556, 1), (557, 1), (558, 1), (559, 1), (560, 9), (561, 5), (562, 2), (563, 1), (564, 1), (565, 2), (566, 1), (567, 5), (568, 1), (569, 1), (570, 1), (571, 1), (572, 3), (573, 1), (574, 1), (575, 1), (576, 2), (577, 1), (578, 1), (579, 5), (580, 1), (581, 1), (582, 1), (583, 1), (584, 1), (585, 1), (586, 1), (587, 1), (588, 1), (589, 1), (590, 1), (591, 1), (592, 2), (593, 1), (594, 1), (595, 1), (596, 1), (597, 2), (598, 1), (599, 1), (600, 1), (601, 1), (602, 1), (603, 1), (604, 2), (605, 2), (606, 1), (607, 1), (608, 1), (609, 1), (610, 1), (611, 1), (612, 1), (613, 2), (614, 1), (615, 1), (616, 1), (617, 1), (618, 3), (619, 2), (620, 2), (621, 1), (622, 1), (623, 3), (624, 1), (625, 1), (626, 1), (627, 1), (628, 2), (629, 2), (630, 1), (631, 1), (632, 1), (633, 1), (634, 1), (635, 1), (636, 1), (637, 4), (638, 1), (639, 1), (640, 1), (641, 1), (642, 1), (643, 1), (644, 1), (645, 1), (646, 1), (647, 1), (648, 1), (649, 1), (650, 1), (651, 1), (652, 1), (653, 1), (654, 1), (655, 1), (656, 1), (657, 1), (658, 1), (659, 1), (660, 1), (661, 1), (662, 1), (663, 1), (664, 3), (665, 1), (666, 1), (667, 1), (668, 1), (669, 1), (670, 1), (671, 1), (672, 1), (673, 1), (674, 1), (675, 1), (676, 1), (677, 1), (678, 1), (679, 1), (680, 2), (681, 8), (682, 2), (683, 1), (684, 1), (685, 1), (686, 1), (687, 1), (688, 2), (689, 1), (690, 1), (691, 1), (692, 2), (693, 1), (694, 1), (695, 2), (696, 1), (697, 1), (698, 1), (699, 1), (700, 6), (701, 1), (702, 1), (703, 1), (704, 1), (705, 1), (706, 1), (707, 2), (708, 2), (709, 3), (710, 1), (711, 1), (712, 1), (713, 1), (714, 1), (715, 1), (716, 1), (717, 1), (718, 1), (719, 1), (720, 1), (721, 1), (722, 1), (723, 1), (724, 1), (725, 1), (726, 1), (727, 1), (728, 1), (729, 6), (730, 1), (731, 1), (732, 1), (733, 1), (734, 1), (735, 1), (736, 3), (737, 1), (738, 1), (739, 1), (740, 1), (741, 1), (742, 1), (743, 1), (744, 1), (745, 1), (746, 1), (747, 1), (748, 1), (749, 1), (750, 1), (751, 1), (752, 2), (753, 2), (754, 1), (755, 1), (756, 1), (757, 1), (758, 1), (759, 2), (760, 1), (761, 1), (762, 1), (763, 1), (764, 1), (765, 1), (766, 1), (767, 1), (768, 1), (769, 1), (770, 1), (771, 1), (772, 1), (773, 3), (774, 1), (775, 1), (776, 1), (777, 1), (778, 2), (779, 1), (780, 1), (781, 1), (782, 1), (783, 1), (784, 1)]]\n"
     ]
    }
   ],
   "source": [
    "print(corpus)"
   ]
  },
  {
   "cell_type": "code",
   "execution_count": 375,
   "id": "c49fba47",
   "metadata": {},
   "outputs": [
    {
     "data": {
      "text/plain": [
       "3"
      ]
     },
     "execution_count": 375,
     "metadata": {},
     "output_type": "execute_result"
    }
   ],
   "source": [
    "len(corpus)"
   ]
  },
  {
   "cell_type": "code",
   "execution_count": 376,
   "id": "b8da6012",
   "metadata": {},
   "outputs": [
    {
     "data": {
      "text/plain": [
       "325"
      ]
     },
     "execution_count": 376,
     "metadata": {},
     "output_type": "execute_result"
    }
   ],
   "source": [
    "len(corpus[0])"
   ]
  },
  {
   "cell_type": "code",
   "execution_count": 377,
   "id": "1bac346d",
   "metadata": {},
   "outputs": [
    {
     "data": {
      "text/plain": [
       "249"
      ]
     },
     "execution_count": 377,
     "metadata": {},
     "output_type": "execute_result"
    }
   ],
   "source": [
    "len(corpus[1])"
   ]
  },
  {
   "cell_type": "code",
   "execution_count": 378,
   "id": "5c7290c2",
   "metadata": {},
   "outputs": [
    {
     "data": {
      "text/plain": [
       "304"
      ]
     },
     "execution_count": 378,
     "metadata": {},
     "output_type": "execute_result"
    }
   ],
   "source": [
    "len(corpus[2])"
   ]
  },
  {
   "cell_type": "markdown",
   "id": "eef2274d",
   "metadata": {},
   "source": [
    "## Creating an LDA model"
   ]
  },
  {
   "cell_type": "code",
   "execution_count": 379,
   "id": "bbf4f7cf",
   "metadata": {},
   "outputs": [],
   "source": [
    "lda=gensim.models.ldamodel.LdaModel(corpus=corpus,\n",
    "                                   num_topics=5,\n",
    "                                   id2word=dict)"
   ]
  },
  {
   "cell_type": "code",
   "execution_count": 380,
   "id": "00052df8",
   "metadata": {},
   "outputs": [],
   "source": [
    "# we give the number of topics"
   ]
  },
  {
   "cell_type": "code",
   "execution_count": 381,
   "id": "8a1be486",
   "metadata": {},
   "outputs": [
    {
     "data": {
      "text/plain": [
       "gensim.models.ldamodel.LdaModel"
      ]
     },
     "execution_count": 381,
     "metadata": {},
     "output_type": "execute_result"
    }
   ],
   "source": [
    "type(lda)"
   ]
  },
  {
   "cell_type": "markdown",
   "id": "1807956f",
   "metadata": {},
   "source": [
    "## Displaying topics"
   ]
  },
  {
   "cell_type": "code",
   "execution_count": 382,
   "id": "e45522d6",
   "metadata": {},
   "outputs": [
    {
     "data": {
      "text/plain": [
       "[(0,\n",
       "  '0.014*\"chess\" + 0.013*\"computer\" + 0.012*\"game\" + 0.012*\"piece\" + 0.010*\"square\" + 0.009*\"player\" + 0.008*\"king\" + 0.007*\"capture\" + 0.007*\"Chess\" + 0.007*\"move\"'),\n",
       " (1,\n",
       "  '0.011*\"game\" + 0.009*\"square\" + 0.009*\"player\" + 0.008*\"chess\" + 0.008*\"Labour\" + 0.008*\"move\" + 0.007*\"piece\" + 0.006*\"capture\" + 0.006*\"pawn\" + 0.006*\"king\"'),\n",
       " (2,\n",
       "  '0.016*\"player\" + 0.014*\"game\" + 0.012*\"chess\" + 0.011*\"square\" + 0.011*\"king\" + 0.010*\"computer\" + 0.010*\"piece\" + 0.008*\"Chess\" + 0.008*\"capture\" + 0.008*\"win\"'),\n",
       " (3,\n",
       "  '0.015*\"chess\" + 0.014*\"computer\" + 0.011*\"game\" + 0.008*\"human\" + 0.008*\"Chess\" + 0.007*\"play\" + 0.007*\"win\" + 0.006*\"player\" + 0.006*\"Dreyfus\" + 0.006*\"Mac\"'),\n",
       " (4,\n",
       "  '0.023*\"square\" + 0.020*\"player\" + 0.018*\"game\" + 0.017*\"pawn\" + 0.014*\"piece\" + 0.013*\"king\" + 0.013*\"move\" + 0.012*\"chess\" + 0.012*\"rook\" + 0.010*\"capture\"')]"
      ]
     },
     "execution_count": 382,
     "metadata": {},
     "output_type": "execute_result"
    }
   ],
   "source": [
    "lda.print_topics() # 5 tuples bcz the topics given are 5"
   ]
  },
  {
   "cell_type": "code",
   "execution_count": null,
   "id": "01aeb799",
   "metadata": {},
   "outputs": [],
   "source": [
    "# 0.030 probability of the words belonging to that tuple set."
   ]
  },
  {
   "cell_type": "code",
   "execution_count": null,
   "id": "ae8b4ef0",
   "metadata": {},
   "outputs": [],
   "source": [
    "# It gives a unique theme, concept about these words"
   ]
  },
  {
   "cell_type": "code",
   "execution_count": 383,
   "id": "440d5af1",
   "metadata": {},
   "outputs": [
    {
     "data": {
      "text/plain": [
       "[(0,\n",
       "  '0.014*\"chess\" + 0.013*\"computer\" + 0.012*\"game\" + 0.012*\"piece\" + 0.010*\"square\" + 0.009*\"player\" + 0.008*\"king\" + 0.007*\"capture\" + 0.007*\"Chess\" + 0.007*\"move\"'),\n",
       " (1,\n",
       "  '0.011*\"game\" + 0.009*\"square\" + 0.009*\"player\" + 0.008*\"chess\" + 0.008*\"Labour\" + 0.008*\"move\" + 0.007*\"piece\" + 0.006*\"capture\" + 0.006*\"pawn\" + 0.006*\"king\"')]"
      ]
     },
     "execution_count": 383,
     "metadata": {},
     "output_type": "execute_result"
    }
   ],
   "source": [
    "lda.print_topics()[:2]"
   ]
  },
  {
   "cell_type": "markdown",
   "id": "c3a56cc6",
   "metadata": {},
   "source": [
    "## Getting topics for a word"
   ]
  },
  {
   "cell_type": "code",
   "execution_count": 384,
   "id": "b5236662",
   "metadata": {},
   "outputs": [
    {
     "data": {
      "text/plain": [
       "[(0, 0.011295231), (2, 0.013283155), (3, 0.010231169), (4, 0.0173228)]"
      ]
     },
     "execution_count": 384,
     "metadata": {},
     "output_type": "execute_result"
    }
   ],
   "source": [
    "lda.get_term_topics('game')"
   ]
  },
  {
   "cell_type": "code",
   "execution_count": 388,
   "id": "76d6d03a",
   "metadata": {},
   "outputs": [
    {
     "data": {
      "text/plain": [
       "[(2, 0.010346283), (4, 0.02180278)]"
      ]
     },
     "execution_count": 388,
     "metadata": {},
     "output_type": "execute_result"
    }
   ],
   "source": [
    "lda.get_term_topics('square')"
   ]
  },
  {
   "cell_type": "code",
   "execution_count": 389,
   "id": "afa2eec6",
   "metadata": {},
   "outputs": [
    {
     "data": {
      "text/plain": [
       "[]"
      ]
     },
     "execution_count": 389,
     "metadata": {},
     "output_type": "execute_result"
    }
   ],
   "source": [
    "lda.get_term_topics('famous')"
   ]
  },
  {
   "cell_type": "code",
   "execution_count": 392,
   "id": "f14b3db8",
   "metadata": {},
   "outputs": [],
   "source": [
    "# the word is a part of word_list but not topic model, so showing empty list"
   ]
  },
  {
   "cell_type": "code",
   "execution_count": 390,
   "id": "17f838e0",
   "metadata": {},
   "outputs": [
    {
     "data": {
      "text/plain": [
       "[(2, 0.015119347), (4, 0.019275462)]"
      ]
     },
     "execution_count": 390,
     "metadata": {},
     "output_type": "execute_result"
    }
   ],
   "source": [
    "lda.get_term_topics('player')"
   ]
  },
  {
   "cell_type": "markdown",
   "id": "8c0b58db",
   "metadata": {},
   "source": [
    "## Visualisation of topics"
   ]
  },
  {
   "cell_type": "code",
   "execution_count": 393,
   "id": "77df8950",
   "metadata": {},
   "outputs": [],
   "source": [
    "pyLDAvis.enable_notebook()"
   ]
  },
  {
   "cell_type": "code",
   "execution_count": 394,
   "id": "99b1b79d",
   "metadata": {},
   "outputs": [
    {
     "name": "stderr",
     "output_type": "stream",
     "text": [
      "C:\\Users\\pc\\anaconda3\\lib\\site-packages\\pyLDAvis\\_prepare.py:246: FutureWarning: In a future version of pandas all arguments of DataFrame.drop except for the argument 'labels' will be keyword-only.\n",
      "  default_term_info = default_term_info.sort_values(\n"
     ]
    }
   ],
   "source": [
    "# Enable the notebook to have intercative visualisations\n",
    "plot=pyLDAvis.gensim_models.prepare(lda,\n",
    "                                    corpus=corpus,\n",
    "                                   dictionary=lda.id2word)"
   ]
  },
  {
   "cell_type": "code",
   "execution_count": 395,
   "id": "6343714b",
   "metadata": {},
   "outputs": [
    {
     "data": {
      "text/html": [
       "\n",
       "<link rel=\"stylesheet\" type=\"text/css\" href=\"https://cdn.jsdelivr.net/gh/bmabey/pyLDAvis@3.3.1/pyLDAvis/js/ldavis.v1.0.0.css\">\n",
       "\n",
       "\n",
       "<div id=\"ldavis_el690819932537167043554870702\"></div>\n",
       "<script type=\"text/javascript\">\n",
       "\n",
       "var ldavis_el690819932537167043554870702_data = {\"mdsDat\": {\"x\": [-0.03754451702740915, 0.03933276850095659, -0.005180818575047503, 0.003272843089660933, 0.00011972401183911627], \"y\": [0.0029919167043461854, 0.0011190284760684358, -0.011687571823751134, 0.002174762876648178, 0.005401863766688324], \"topics\": [1, 2, 3, 4, 5], \"cluster\": [1, 1, 1, 1, 1], \"Freq\": [49.55049128929497, 43.22815524831275, 7.144244338720203, 0.03863807240893115, 0.038471051263150834]}, \"tinfo\": {\"Term\": [\"game\", \"chess\", \"player\", \"computer\", \"square\", \"piece\", \"king\", \"Chess\", \"move\", \"pawn\", \"capture\", \"win\", \"rook\", \"play\", \"White\", \"human\", \"bishop\", \"queen\", \"defeat\", \"board\", \"time\", \"knight\", \"like\", \"begin\", \"majority\", \"program\", \"Hack\", \"VI\", \"Labour\", \"Dreyfus\", \"Liberal\", \"party\", \"David\", \"continue\", \"imponderable\", \"UKIP\", \"new\", \"Birmingham\", \"official\", \"election\", \"area\", \"politician\", \"International\", \"student\", \"politically\", \"Midlands\", \"Computer\", \"Dreyfus\", \"sit\", \"mood\", \"upset\", \"traditional\", \"unpredictable\", \"Democrat\", \"prediction\", \"constituency\", \"wafer\", \"Lorely\", \"impressive\", \"majority\", \"Conservatives\", \"poll\", \"Alamos\", \"seat\", \"contest\", \"computer\", \"work\", \"tell\", \"Mac\", \"human\", \"VI\", \"bet\", \"Chess\", \"long\", \"program\", \"chess\", \"Labour\", \"year\", \"able\", \"match\", \"beat\", \"win\", \"defeat\", \"play\", \"challenge\", \"like\", \"game\", \"time\", \"Hack\", \"score\", \"board\", \"player\", \"run\", \"queen\", \"pawn\", \"square\", \"rook\", \"knight\", \"king\", \"White\", \"call\", \"file\", \"relative\", \"bishop\", \"move\", \"century\", \"colour\", \"Black\", \"piece\", \"value\", \"passant\", \"point\", \"white\", \"castle\", \"capture\", \"unique\", \"notation\", \"begin\", \"en\", \"place\", \"f6\", \"player\", \"light\", \"enemy\", \"rank\", \"queen\", \"game\", \"check\", \"chess\", \"play\", \"board\", \"computer\", \"win\", \"Chess\", \"human\", \"Labour\", \"fail\", \"North\", \"watcher\", \"vote\", \"prone\", \"list\", \"mug\", \"survival\", \"knife\", \"Cheltenham\", \"candidate\", \"wage\", \"understatement\", \"Conservatives\", \"local\", \"fare\", \"toxic\", \"creep\", \"predict\", \"disillusioned\", \"underline\", \"day\", \"Solihull\", \"street\", \"tank\", \"previous\", \"week\", \"core\", \"people\", \"simply\", \"Burt\", \"defend\", \"seat\", \"mood\", \"opposition\", \"Democrats\", \"majority\", \"marginal\", \"party\", \"Midlands\", \"council\", \"close\", \"election\", \"number\", \"move\", \"Manchester\", \"like\", \"capture\", \"bishop\", \"know\", \"game\", \"start\", \"piece\", \"square\", \"player\", \"king\", \"board\", \"UKIP\", \"fight\", \"pawn\", \"chess\", \"White\", \"rook\", \"rank\", \"enemy\", \"queen\", \"win\", \"draw\", \"begin\", \"computer\", \"play\", \"king\", \"checkmate\", \"bishop\", \"victory\", \"turn\", \"reach\", \"close\", \"North\", \"end\", \"Conservatives\", \"shift\", \"directly\", \"Pawns\", \"win\", \"forward\", \"h7\", \"time\", \"black\", \"candidate\", \"algebraic\", \"capture\", \"Labour\", \"recognize\", \"beginning\", \"example\", \"crosse\", \"simultaneously\", \"century\", \"record\", \"direction\", \"player\", \"Chess\", \"party\", \"Midlands\", \"piece\", \"White\", \"know\", \"knight\", \"game\", \"chess\", \"square\", \"majority\", \"move\", \"seat\", \"computer\", \"rook\", \"program\", \"board\", \"queen\", \"play\", \"defeat\", \"Hack\", \"pawn\", \"score\", \"begin\", \"like\", \"human\", \"time\", \"piece\", \"Equipment\", \"question\", \"legal\", \"nobility\", \"Pawns\", \"disillusioned\", \"majority\", \"initial\", \"state\", \"entire\", \"high\", \"checkmate\", \"bishop\", \"turn\", \"black\", \"file\", \"light\", \"Blue\", \"constituency\", \"mass\", \"view\", \"knife\", \"theory\", \"toxic\", \"today\", \"versus\", \"UK\", \"b3\", \"Northwestern\", \"Alamos\", \"Hack\", \"work\", \"computer\", \"capture\", \"victory\", \"king\", \"chess\", \"defeat\", \"Chess\", \"Democrats\", \"game\", \"square\", \"tournament\", \"like\", \"human\", \"move\", \"win\", \"enemy\", \"White\", \"player\", \"Labour\", \"rank\", \"rook\", \"knight\", \"UKIP\", \"begin\", \"program\", \"VI\", \"pawn\", \"play\", \"Dreyfus\", \"queen\", \"board\"], \"Freq\": [22.0, 20.0, 19.0, 17.0, 18.0, 12.0, 11.0, 10.0, 11.0, 13.0, 9.0, 9.0, 9.0, 10.0, 8.0, 10.0, 6.0, 8.0, 7.0, 7.0, 5.0, 6.0, 6.0, 6.0, 5.0, 5.0, 5.0, 6.0, 5.0, 6.0, 3.6336929579191017, 3.3691732379268746, 2.986781881590804, 1.5526037828194192, 2.011111376477026, 3.1088396154830242, 1.6414594578412884, 2.0051833588018653, 1.0428445808264872, 2.386316580390902, 1.4572831505623003, 1.4887979072846333, 2.2585189269212447, 2.2777285366387194, 1.5267490771729113, 2.637748112707833, 1.6602315748042318, 4.782761182090387, 0.9581634759403915, 1.406782379332044, 1.0250172542600402, 1.0172942537651584, 1.0429285662611714, 1.5617803351511883, 0.9312898751020777, 1.7651928749815216, 0.9663695299158099, 1.5031962860384833, 0.927525717449957, 3.82727956784099, 3.6990804676530384, 1.7958885449971795, 1.481392551048165, 3.015262824588123, 1.407033054812474, 11.23521648093423, 1.3969520580283212, 1.4691905103449288, 4.716901597364108, 6.428374716889487, 4.075908658071596, 2.5011151549144373, 6.293768936941116, 2.269630803746815, 3.696957593985923, 11.43942733983107, 3.6067506500421738, 2.4163507964928703, 2.4238320872726806, 2.3612980695951715, 3.3321574352327263, 5.142331555017562, 4.103798775429274, 5.354181977899011, 2.9797523556001773, 3.877017242654361, 8.97421879435358, 3.1200771959984164, 3.0435421293522786, 2.8988903008071722, 3.597978837975157, 5.003548094361763, 2.6752348925455043, 2.7127749180509166, 11.362805732224208, 15.4836831189545, 7.977634981425023, 4.914073534651327, 9.048039488368625, 6.577514285037461, 3.479456193908155, 4.116917326606214, 2.009600575492038, 5.179024990394017, 8.960433533966198, 2.776042692579644, 3.342042043751314, 3.163354706495096, 9.468520996531996, 2.6839987507711545, 2.373772863690531, 2.1937128822466745, 2.192395469468377, 2.790657306599308, 6.9308790953804005, 1.8937424781848962, 1.8425986720202046, 4.6458924781173465, 2.163678967691486, 1.6747607948757737, 1.4254883549951916, 13.751910898999133, 2.037853197281805, 4.005156410176398, 3.3608338124520025, 5.188122848613611, 12.413810286450968, 3.014010252663903, 8.180182287516542, 4.339327188374894, 3.591882760560375, 5.522783366592043, 3.6768800684557204, 3.5855416839573087, 3.4623555279547444, 0.8676309327154197, 0.1610648731363003, 0.3020518354903554, 0.14212692052273593, 0.30186518631843157, 0.1448423955637672, 0.14904281975881478, 0.1485123799601876, 0.15347450425648917, 0.14715403566497878, 0.14572508126253966, 0.20989773110231633, 0.1442609866909129, 0.15198309163291512, 0.6405323130385715, 0.2441867404937278, 0.14378086961955705, 0.21183872420127425, 0.14657308846852143, 0.15030212787149327, 0.13668862319058417, 0.14384576813021893, 0.22692001686498597, 0.23081242375871946, 0.14231259357884904, 0.14809308545644595, 0.14825099197496897, 0.23011980363720858, 0.14606691965762145, 0.14048672938254494, 0.27789616133636447, 0.210535543640128, 0.22272984188595146, 0.4687909621699294, 0.22360729085530667, 0.22289831419858833, 0.2675535284020594, 0.5220756469152825, 0.22544639856882712, 0.4400295251350923, 0.36849479879843644, 0.2742959296481514, 0.34489806966289793, 0.33085105084522004, 0.31731836591529167, 0.8620319851878714, 0.22511554807199358, 0.5566076695713126, 0.7142685234881184, 0.5494725795726996, 0.346497686043171, 1.2420264307344737, 0.3404591698226764, 0.8124140662949139, 0.9820047965988586, 0.9793440631877556, 0.6831558081357001, 0.5119958529491581, 0.3602916006692676, 0.31540562741182926, 0.6890879013513127, 0.8687956235482246, 0.5221779544048544, 0.5188364197880032, 0.36796877790246607, 0.37843535116323024, 0.40984203566374006, 0.41180888264092913, 0.34745863248660946, 0.3688397634022635, 0.4306401352437732, 0.3475799874252455, 0.0068362654892987935, 0.0016032647840539657, 0.003966307555619907, 0.0016845126729497526, 0.0015941019656970554, 0.00122405679515655, 0.001976215603860097, 0.001326578773605546, 0.0016737539946843707, 0.0029471998361061745, 0.0006244307330761638, 0.0006204694050029584, 0.000588635388445208, 0.0048741970372817535, 0.0008980776897873958, 0.0009128446373785433, 0.0027752478927988338, 0.0011447008955603865, 0.0009184364249156788, 0.0009111951303242885, 0.004945032386145323, 0.002956699375910022, 0.0005993708814414679, 0.0006039185471359397, 0.0011730619014822799, 0.000588105729889533, 0.0006219885038358145, 0.001865543682288007, 0.0005980584882002432, 0.0011979855664131193, 0.009817569215479383, 0.00501384398204137, 0.002263671706860235, 0.0018533129891209088, 0.005868517207229214, 0.00394736868637264, 0.0018438270037820863, 0.002799516663051096, 0.008692594846262796, 0.007600662553134137, 0.006892694296662303, 0.0024704019818859177, 0.00464999077648145, 0.002027120610029464, 0.005938183733171891, 0.0037332754832667893, 0.0024713131272927572, 0.002987547055449689, 0.003099703832995624, 0.0034886450692096344, 0.002763609030378301, 0.0023055577146805363, 0.003804998863607367, 0.0021691280292035417, 0.002463900975102762, 0.002368687992230992, 0.0022450582874521466, 0.0030783103282164916, 0.007390282102451801, 0.0006921199367121903, 0.001017310455283308, 0.0009304352476888452, 0.0006130308534153301, 0.0005701375239706601, 0.0006078825330142003, 0.0028378283613734504, 0.0005958194600113957, 0.0009794820204352547, 0.0005824776885557607, 0.0009526907946634975, 0.0013651361100153869, 0.003412703966721003, 0.0014171189454519274, 0.0010752863107099718, 0.0026498359644832534, 0.001439482885596173, 0.000979508657026734, 0.0012585677245156748, 0.0006037647290642237, 0.0008679048192428541, 0.0005992860880883402, 0.0005816914829216561, 0.0008751529554234845, 0.0005696782025871902, 0.0006298884063380528, 0.0005986539840148075, 0.0005662231880641306, 0.0010862713120669686, 0.0010361346410281346, 0.0025279827214526704, 0.000970264765350649, 0.0076379981413551715, 0.0042770765608409625, 0.0014022700756503904, 0.005034549907479582, 0.008516187952330945, 0.0030411475240317795, 0.004170090087401391, 0.0011778913134593769, 0.007559501029667348, 0.006403886075239433, 0.002220678993699038, 0.002694341660083352, 0.00368021972989554, 0.004070944858246057, 0.003294773334698036, 0.00226146991473597, 0.003027165515463347, 0.0057480161955105954, 0.002248284446799136, 0.0019747039224147583, 0.0030954850341550952, 0.0022402320986485607, 0.0017831665148377567, 0.0022931747037492852, 0.0021344098218339133, 0.002230097692446138, 0.003414986047817133, 0.002900214810163632, 0.0023303204605154507, 0.002556412701363148, 0.0022356645269725915], \"Total\": [22.0, 20.0, 19.0, 17.0, 18.0, 12.0, 11.0, 10.0, 11.0, 13.0, 9.0, 9.0, 9.0, 10.0, 8.0, 10.0, 6.0, 8.0, 7.0, 7.0, 5.0, 6.0, 6.0, 6.0, 5.0, 5.0, 5.0, 6.0, 5.0, 6.0, 4.819150625267262, 4.585047948286607, 4.0866159165109766, 2.1428463051558246, 2.813597610809523, 4.356933852061899, 2.3021005340343073, 2.8130201328175013, 1.4754664148821517, 3.398488276292073, 2.0788254832745277, 2.1364695517562704, 3.243751142166993, 3.2743492700928334, 2.196565482039227, 3.80428694757134, 2.399840029526406, 6.921104052068237, 1.3872155493132414, 2.041406624588639, 1.489119323626391, 1.478571916968899, 1.5159708255319773, 2.270275700325648, 1.3574538215422587, 2.574760361775083, 1.4105823094987204, 2.196135881778842, 1.355627969945901, 5.595845784336516, 5.4514054831660985, 2.6320429291573255, 2.166969478794405, 4.474415522228427, 2.0574273999979855, 17.202216164644575, 2.043594229648543, 2.1536761951914296, 7.260266879862623, 10.17020628042349, 6.322562324696934, 3.770531240229832, 10.21253390034443, 3.421399592357572, 5.850857791942416, 20.504522101401303, 5.753048791266776, 3.691590654845452, 3.7175175646876766, 3.6105927957007147, 5.390862103257, 9.239189476486192, 7.102776524545718, 10.047478013578523, 4.864160771606938, 6.848267200541593, 22.646307607414954, 5.292294288909842, 5.355697262075723, 5.018440262897184, 7.707080663067114, 19.750368641959643, 4.643150783148155, 8.316395918862627, 13.372217015496481, 18.63867562104841, 9.62737110018318, 6.093145710472924, 11.566227051320244, 8.463059721913707, 4.478293993620773, 5.3910080291921485, 2.6509691117723317, 6.8727142208878025, 11.939802359286935, 3.7049225838481554, 4.479905236573528, 4.273411117082053, 12.792621483141135, 3.6685614209265434, 3.2456970505772245, 3.008986062632255, 3.0125197161870383, 3.842533835710066, 9.560940829137483, 2.6136357161591888, 2.5838883729775524, 6.525849237584854, 3.042247585372716, 2.3933279912178045, 2.042469794550859, 19.750368641959643, 2.9292554554607255, 5.7642107424835505, 5.01523416285011, 8.316395918862627, 22.646307607414954, 4.6611028708905575, 20.504522101401303, 10.047478013578523, 7.707080663067114, 17.202216164644575, 9.239189476486192, 10.21253390034443, 10.17020628042349, 5.753048791266776, 1.2120516128088767, 2.4114594231630906, 1.1599759305408148, 2.463920082000449, 1.1897658904773276, 1.238336192659443, 1.2423124384618969, 1.2848819901085164, 1.2380307736082523, 1.2269763844180366, 1.7700530746809675, 1.218619219964459, 1.2877085689998706, 5.4514054831660985, 2.0799328667676087, 1.2297069309115776, 1.8196939746960294, 1.2593782638586377, 1.3010827795608397, 1.194940513076272, 1.269479403891691, 2.003794605341078, 2.042899673750001, 1.2599833011832877, 1.311568783885054, 1.3130064715536995, 2.047199127266009, 1.3033355355963077, 1.2542500144088655, 2.4970164571710947, 1.899217781647136, 2.019083317593255, 4.474415522228427, 2.041406624588639, 2.0442005802909415, 2.5203354223873995, 5.595845784336516, 2.0866879966770546, 4.585047948286607, 3.80428694757134, 2.6634599146410585, 3.5624315893474576, 3.398488276292073, 3.2388393959697974, 11.939802359286935, 2.111346240575761, 6.848267200541593, 9.560940829137483, 6.8727142208878025, 3.7848446085318472, 22.646307607414954, 3.703894914712597, 12.792621483141135, 18.63867562104841, 19.750368641959643, 11.566227051320244, 7.707080663067114, 4.356933852061899, 3.4852891241687014, 13.372217015496481, 20.504522101401303, 8.463059721913707, 9.62737110018318, 5.01523416285011, 5.7642107424835505, 8.316395918862627, 9.239189476486192, 4.70862173070534, 6.525849237584854, 17.202216164644575, 10.047478013578523, 11.566227051320244, 2.7460369837086342, 6.8727142208878025, 2.994779587315268, 2.8554232957284187, 2.204760015013775, 3.5624315893474576, 2.4114594231630906, 3.0838498782197985, 5.4514054831660985, 1.1686288691983997, 1.1670890533355607, 1.1100915052528963, 9.239189476486192, 1.7057131407992996, 1.734801307439507, 5.292294288909842, 2.1838124804240713, 1.7700530746809675, 1.7601853470854736, 9.560940829137483, 5.753048791266776, 1.1711287450472934, 1.1863046855152284, 2.309888868923906, 1.1641272522330501, 1.234846628673218, 3.7049225838481554, 1.1897095860915914, 2.3996456265593538, 19.750368641959643, 10.21253390034443, 4.585047948286607, 3.80428694757134, 12.792621483141135, 8.463059721913707, 3.7848446085318472, 6.093145710472924, 22.646307607414954, 20.504522101401303, 18.63867562104841, 5.595845784336516, 11.939802359286935, 4.474415522228427, 17.202216164644575, 9.62737110018318, 5.850857791942416, 7.707080663067114, 8.316395918862627, 10.047478013578523, 7.102776524545718, 5.355697262075723, 13.372217015496481, 5.018440262897184, 6.525849237584854, 6.848267200541593, 10.17020628042349, 5.292294288909842, 12.792621483141135, 1.2968786144623488, 1.926003004525416, 1.764218604799749, 1.1745612778532213, 1.1100915052528963, 1.194940513076272, 5.595845784336516, 1.175192902247271, 1.9498521068758823, 1.1673840136211133, 1.9117677975497411, 2.7460369837086342, 6.8727142208878025, 2.8554232957284187, 2.1838124804240713, 5.3910080291921485, 2.9292554554607255, 1.9995344720127364, 2.574760361775083, 1.2422385194777363, 1.786007906768901, 1.2380307736082523, 1.208721038673781, 1.8196939746960294, 1.1866634790034676, 1.3134924035593571, 1.2487901964546309, 1.1815015127940403, 2.271403063545367, 2.166969478794405, 5.355697262075723, 2.043594229648543, 17.202216164644575, 9.560940829137483, 2.994779587315268, 11.566227051320244, 20.504522101401303, 7.102776524545718, 10.21253390034443, 2.5203354223873995, 22.646307607414954, 18.63867562104841, 5.420884961359492, 6.848267200541593, 10.17020628042349, 11.939802359286935, 9.239189476486192, 5.7642107424835505, 8.463059721913707, 19.750368641959643, 5.753048791266776, 5.01523416285011, 9.62737110018318, 6.093145710472924, 4.356933852061899, 6.525849237584854, 5.850857791942416, 6.322562324696934, 13.372217015496481, 10.047478013578523, 6.921104052068237, 8.316395918862627, 7.707080663067114], \"Category\": [\"Default\", \"Default\", \"Default\", \"Default\", \"Default\", \"Default\", \"Default\", \"Default\", \"Default\", \"Default\", \"Default\", \"Default\", \"Default\", \"Default\", \"Default\", \"Default\", \"Default\", \"Default\", \"Default\", \"Default\", \"Default\", \"Default\", \"Default\", \"Default\", \"Default\", \"Default\", \"Default\", \"Default\", \"Default\", \"Default\", \"Topic1\", \"Topic1\", \"Topic1\", \"Topic1\", \"Topic1\", \"Topic1\", \"Topic1\", \"Topic1\", \"Topic1\", \"Topic1\", \"Topic1\", \"Topic1\", \"Topic1\", \"Topic1\", \"Topic1\", \"Topic1\", \"Topic1\", \"Topic1\", \"Topic1\", \"Topic1\", \"Topic1\", \"Topic1\", \"Topic1\", \"Topic1\", \"Topic1\", \"Topic1\", \"Topic1\", \"Topic1\", \"Topic1\", \"Topic1\", \"Topic1\", \"Topic1\", \"Topic1\", \"Topic1\", \"Topic1\", \"Topic1\", \"Topic1\", \"Topic1\", \"Topic1\", \"Topic1\", \"Topic1\", \"Topic1\", \"Topic1\", \"Topic1\", \"Topic1\", \"Topic1\", \"Topic1\", \"Topic1\", \"Topic1\", \"Topic1\", \"Topic1\", \"Topic1\", \"Topic1\", \"Topic1\", \"Topic1\", \"Topic1\", \"Topic1\", \"Topic1\", \"Topic1\", \"Topic1\", \"Topic1\", \"Topic1\", \"Topic1\", \"Topic1\", \"Topic2\", \"Topic2\", \"Topic2\", \"Topic2\", \"Topic2\", \"Topic2\", \"Topic2\", \"Topic2\", \"Topic2\", \"Topic2\", \"Topic2\", \"Topic2\", \"Topic2\", \"Topic2\", \"Topic2\", \"Topic2\", \"Topic2\", \"Topic2\", \"Topic2\", \"Topic2\", \"Topic2\", \"Topic2\", \"Topic2\", \"Topic2\", \"Topic2\", \"Topic2\", \"Topic2\", \"Topic2\", \"Topic2\", \"Topic2\", \"Topic2\", \"Topic2\", \"Topic2\", \"Topic2\", \"Topic2\", \"Topic2\", \"Topic2\", \"Topic2\", \"Topic2\", \"Topic2\", \"Topic2\", \"Topic3\", \"Topic3\", \"Topic3\", \"Topic3\", \"Topic3\", \"Topic3\", \"Topic3\", \"Topic3\", \"Topic3\", \"Topic3\", \"Topic3\", \"Topic3\", \"Topic3\", \"Topic3\", \"Topic3\", \"Topic3\", \"Topic3\", \"Topic3\", \"Topic3\", \"Topic3\", \"Topic3\", \"Topic3\", \"Topic3\", \"Topic3\", \"Topic3\", \"Topic3\", \"Topic3\", \"Topic3\", \"Topic3\", \"Topic3\", \"Topic3\", \"Topic3\", \"Topic3\", \"Topic3\", \"Topic3\", \"Topic3\", \"Topic3\", \"Topic3\", \"Topic3\", \"Topic3\", \"Topic3\", \"Topic3\", \"Topic3\", \"Topic3\", \"Topic3\", \"Topic3\", \"Topic3\", \"Topic3\", \"Topic3\", \"Topic3\", \"Topic3\", \"Topic3\", \"Topic3\", \"Topic3\", \"Topic3\", \"Topic3\", \"Topic3\", \"Topic3\", \"Topic3\", \"Topic3\", \"Topic3\", \"Topic3\", \"Topic3\", \"Topic3\", \"Topic3\", \"Topic3\", \"Topic3\", \"Topic3\", \"Topic3\", \"Topic3\", \"Topic3\", \"Topic3\", \"Topic4\", \"Topic4\", \"Topic4\", \"Topic4\", \"Topic4\", \"Topic4\", \"Topic4\", \"Topic4\", \"Topic4\", \"Topic4\", \"Topic4\", \"Topic4\", \"Topic4\", \"Topic4\", \"Topic4\", \"Topic4\", \"Topic4\", \"Topic4\", \"Topic4\", \"Topic4\", \"Topic4\", \"Topic4\", \"Topic4\", \"Topic4\", \"Topic4\", \"Topic4\", \"Topic4\", \"Topic4\", \"Topic4\", \"Topic4\", \"Topic4\", \"Topic4\", \"Topic4\", \"Topic4\", \"Topic4\", \"Topic4\", \"Topic4\", \"Topic4\", \"Topic4\", \"Topic4\", \"Topic4\", \"Topic4\", \"Topic4\", \"Topic4\", \"Topic4\", \"Topic4\", \"Topic4\", \"Topic4\", \"Topic4\", \"Topic4\", \"Topic4\", \"Topic4\", \"Topic4\", \"Topic4\", \"Topic4\", \"Topic4\", \"Topic4\", \"Topic5\", \"Topic5\", \"Topic5\", \"Topic5\", \"Topic5\", \"Topic5\", \"Topic5\", \"Topic5\", \"Topic5\", \"Topic5\", \"Topic5\", \"Topic5\", \"Topic5\", \"Topic5\", \"Topic5\", \"Topic5\", \"Topic5\", \"Topic5\", \"Topic5\", \"Topic5\", \"Topic5\", \"Topic5\", \"Topic5\", \"Topic5\", \"Topic5\", \"Topic5\", \"Topic5\", \"Topic5\", \"Topic5\", \"Topic5\", \"Topic5\", \"Topic5\", \"Topic5\", \"Topic5\", \"Topic5\", \"Topic5\", \"Topic5\", \"Topic5\", \"Topic5\", \"Topic5\", \"Topic5\", \"Topic5\", \"Topic5\", \"Topic5\", \"Topic5\", \"Topic5\", \"Topic5\", \"Topic5\", \"Topic5\", \"Topic5\", \"Topic5\", \"Topic5\", \"Topic5\", \"Topic5\", \"Topic5\", \"Topic5\", \"Topic5\", \"Topic5\", \"Topic5\", \"Topic5\", \"Topic5\", \"Topic5\", \"Topic5\", \"Topic5\", \"Topic5\"], \"logprob\": [30.0, 29.0, 28.0, 27.0, 26.0, 25.0, 24.0, 23.0, 22.0, 21.0, 20.0, 19.0, 18.0, 17.0, 16.0, 15.0, 14.0, 13.0, 12.0, 11.0, 10.0, 9.0, 8.0, 7.0, 6.0, 5.0, 4.0, 3.0, 2.0, 1.0, -5.3765, -5.4521, -5.5726, -6.2269, -5.9681, -5.5325, -6.1712, -5.9711, -6.6248, -5.797, -6.2902, -6.2688, -5.8521, -5.8436, -6.2437, -5.6969, -6.1598, -5.1018, -6.7095, -6.3255, -6.6421, -6.6496, -6.6248, -6.221, -6.738, -6.0985, -6.701, -6.2592, -6.742, -5.3246, -5.3587, -6.0813, -6.2738, -5.5631, -6.3253, -4.2477, -6.3325, -6.2821, -5.1156, -4.8061, -5.2617, -5.7501, -4.8272, -5.8472, -5.3593, -4.2297, -5.384, -5.7845, -5.7814, -5.8076, -5.4632, -5.0293, -5.2549, -4.9889, -5.575, -5.3117, -4.4724, -5.5289, -5.5538, -5.6025, -5.3864, -5.0566, -5.6828, -5.6688, -4.0999, -3.7905, -4.4537, -4.9382, -4.3277, -4.6466, -5.2834, -5.1152, -5.8324, -4.8857, -4.3375, -5.5093, -5.3237, -5.3787, -4.2823, -5.543, -5.6658, -5.7447, -5.7453, -5.504, -4.5943, -5.8917, -5.9191, -4.9943, -5.7585, -6.0146, -6.1758, -3.9091, -5.8184, -5.1427, -5.3181, -4.8839, -4.0115, -5.427, -4.4286, -5.0626, -5.2516, -4.8214, -5.2282, -5.2534, -5.2883, -4.8721, -6.5561, -5.9273, -6.6811, -5.9279, -6.6622, -6.6336, -6.6372, -6.6043, -6.6464, -6.6561, -6.2912, -6.6662, -6.6141, -5.1756, -6.1399, -6.6696, -6.282, -6.6503, -6.6252, -6.7202, -6.6691, -6.2133, -6.1963, -6.6798, -6.64, -6.639, -6.1993, -6.6538, -6.6927, -6.0106, -6.2882, -6.2319, -5.4877, -6.228, -6.2311, -6.0485, -5.3801, -6.2198, -5.551, -5.7284, -6.0237, -5.7946, -5.8362, -5.878, -4.8786, -6.2212, -5.316, -5.0666, -5.3289, -5.79, -4.5134, -5.8076, -4.9379, -4.7483, -4.751, -5.1111, -5.3995, -5.7509, -5.884, -5.1025, -4.8708, -5.3799, -5.3863, -5.7299, -5.7018, -5.6221, -5.6173, -5.7872, -5.7275, -5.5726, -5.7869, -4.4958, -5.946, -5.0402, -5.8966, -5.9517, -6.2159, -5.7369, -6.1354, -5.903, -5.3372, -6.889, -6.8953, -6.948, -4.8341, -6.5255, -6.5092, -5.3973, -6.2829, -6.5031, -6.511, -4.8197, -5.334, -6.9299, -6.9224, -6.2584, -6.9489, -6.8929, -5.7945, -6.9321, -6.2374, -4.1339, -4.8058, -5.6011, -5.8011, -4.6484, -5.045, -5.8062, -5.3886, -4.2556, -4.3898, -4.4876, -5.5137, -4.8812, -5.7114, -4.6366, -5.1008, -5.5133, -5.3236, -5.2867, -5.1685, -5.4015, -5.5827, -5.0817, -5.6437, -5.5163, -5.5557, -5.6093, -5.2893, -4.4135, -6.7817, -6.3965, -6.4858, -6.903, -6.9756, -6.9115, -5.3707, -6.9315, -6.4344, -6.9542, -6.4622, -6.1025, -5.1862, -6.0651, -6.3411, -5.4392, -6.0494, -6.4344, -6.1837, -6.9183, -6.5554, -6.9257, -6.9555, -6.5471, -6.9764, -6.8759, -6.9268, -6.9825, -6.331, -6.3782, -5.4863, -6.4439, -4.3806, -4.9604, -6.0756, -4.7974, -4.2717, -5.3015, -4.9858, -6.25, -4.3909, -4.5568, -5.6159, -5.4226, -5.1107, -5.0098, -5.2214, -5.5977, -5.3061, -4.6649, -5.6035, -5.7333, -5.2838, -5.6071, -5.8353, -5.5838, -5.6555, -5.6117, -5.1855, -5.3489, -5.5677, -5.4751, -5.6092], \"loglift\": [30.0, 29.0, 28.0, 27.0, 26.0, 25.0, 24.0, 23.0, 22.0, 21.0, 20.0, 19.0, 18.0, 17.0, 16.0, 15.0, 14.0, 13.0, 12.0, 11.0, 10.0, 9.0, 8.0, 7.0, 6.0, 5.0, 4.0, 3.0, 2.0, 1.0, 0.4198, 0.394, 0.3887, 0.38, 0.3664, 0.3647, 0.3639, 0.3637, 0.3552, 0.3486, 0.3469, 0.341, 0.3402, 0.3392, 0.3384, 0.336, 0.3337, 0.3326, 0.3321, 0.3298, 0.3287, 0.3282, 0.3282, 0.3281, 0.3254, 0.3247, 0.324, 0.3231, 0.3227, 0.3223, 0.3144, 0.3199, 0.3218, 0.3075, 0.3222, 0.2762, 0.3218, 0.3197, 0.2709, 0.2434, 0.2631, 0.2917, 0.2181, 0.2917, 0.2431, 0.1186, 0.2353, 0.2784, 0.2745, 0.2775, 0.2211, 0.1162, 0.1536, 0.0727, 0.2121, 0.1332, -0.2235, 0.1738, 0.137, 0.1534, -0.0596, -0.6708, 0.1508, -0.4181, 0.6758, 0.6532, 0.6507, 0.6236, 0.5931, 0.5866, 0.5863, 0.5691, 0.5617, 0.5557, 0.5516, 0.55, 0.5457, 0.5379, 0.5378, 0.5262, 0.5258, 0.5227, 0.5209, 0.5188, 0.517, 0.5165, 0.5006, 0.4989, 0.4979, 0.4817, 0.479, 0.4767, 0.4758, 0.4746, 0.4384, 0.3668, 0.2375, 0.4027, -0.0803, -0.0009, 0.0752, -0.2975, -0.0827, -0.208, -0.2388, 0.7471, 0.6206, 0.5615, 0.5394, 0.5393, 0.533, 0.5216, 0.5148, 0.514, 0.5091, 0.5083, 0.5067, 0.505, 0.502, 0.4975, 0.4967, 0.4926, 0.4883, 0.488, 0.4806, 0.4707, 0.4612, 0.4607, 0.4583, 0.458, 0.4577, 0.4577, 0.4532, 0.4502, 0.4497, 0.4433, 0.4393, 0.4344, 0.3829, 0.4274, 0.4228, 0.396, 0.2669, 0.4136, 0.2951, 0.3044, 0.3657, 0.3039, 0.3094, 0.3158, 0.0105, 0.4004, 0.129, 0.0447, 0.1125, 0.248, -0.2644, 0.252, -0.1178, -0.3045, -0.3652, -0.1903, -0.0727, 0.1463, 0.2364, -0.3267, -0.5224, -0.1466, -0.2819, 0.0266, -0.0845, -0.3713, -0.4718, 0.0324, -0.2343, -1.0487, -0.7252, 0.4251, 0.4128, 0.4012, 0.3755, 0.368, 0.3625, 0.3617, 0.3533, 0.3398, 0.3359, 0.3242, 0.3191, 0.3165, 0.3114, 0.3095, 0.3088, 0.3054, 0.305, 0.2948, 0.2925, 0.2916, 0.2853, 0.2811, 0.2758, 0.2734, 0.2681, 0.2652, 0.2648, 0.2632, 0.2563, 0.2519, 0.2395, 0.2451, 0.2318, 0.1717, 0.1883, 0.2318, 0.1732, -0.0066, -0.0415, -0.0438, 0.1333, 0.0079, 0.1592, -0.1127, 0.0036, 0.0891, 0.0032, -0.036, -0.1069, 0.007, 0.1081, -0.3059, 0.1121, -0.0231, -0.1107, -0.5598, 0.4134, 0.4066, 0.3273, 0.317, 0.3155, 0.305, 0.2889, 0.2794, 0.2763, 0.276, 0.2668, 0.26, 0.2588, 0.2564, 0.2552, 0.2547, 0.2468, 0.245, 0.2448, 0.2416, 0.2395, 0.2338, 0.2336, 0.2297, 0.2239, 0.2232, 0.2214, 0.2204, 0.22, 0.2197, 0.2176, 0.2174, 0.2045, 0.2104, 0.1434, 0.1508, 0.1965, 0.1235, 0.0766, 0.107, 0.0596, 0.1946, -0.1419, -0.1131, 0.0628, 0.0224, -0.0612, -0.1207, -0.0759, 0.0196, -0.0728, -0.2791, 0.0157, 0.0232, -0.1794, -0.0453, 0.0619, -0.0906, -0.0531, -0.0868, -0.4097, -0.2873, -0.1333, -0.2244, -0.2823]}, \"token.table\": {\"Topic\": [1, 2, 1, 2, 1, 2, 1, 2, 1, 1, 1, 2, 1, 2, 1, 2, 3, 1, 2, 1, 1, 2, 1, 2, 1, 1, 2, 1, 2, 1, 2, 3, 1, 2, 1, 1, 2, 1, 1, 2, 1, 2, 1, 2, 2, 1, 1, 1, 2, 1, 2, 1, 2, 3, 1, 2, 1, 2, 1, 2, 1, 2, 1, 2, 2, 1, 2, 1, 2, 3, 1, 2, 1, 2, 3, 1, 2, 1, 1, 2, 3, 1, 2, 1, 2, 1, 2, 1, 2, 1, 2, 1, 2, 3, 1, 2, 1, 2, 1, 2, 1, 2, 1, 1, 1, 1, 2, 1, 2, 1, 1, 2, 1, 1, 2, 2, 1, 1, 2, 1, 2, 1, 2, 1, 2, 1, 2, 2, 1, 2, 2, 1, 1, 1, 2, 1, 2, 2, 1, 2, 3, 1, 2, 1, 2, 1, 2, 1, 2, 1, 2, 1, 2, 3, 1, 1, 2, 1, 2, 1, 2, 1, 2, 1, 2, 3, 1, 1, 1, 2, 1, 2, 3, 1, 1, 1, 2, 1, 1, 2, 3, 1, 1, 2, 1, 2, 1, 2, 1, 1, 1, 2, 1, 2, 1, 2, 3, 1, 1, 2, 3, 1, 2, 1, 2, 1, 2, 3, 1, 2, 1, 1, 1, 2, 1, 1, 1, 1, 2, 1, 1, 2, 1, 2, 1, 2, 1, 2, 2, 2, 2, 1, 2, 3, 1, 2, 1, 2, 1, 2, 2, 1, 2, 1, 1, 1, 2, 3, 1, 2, 1, 2, 1, 1, 2, 1, 1, 1, 2, 1, 2, 2, 1, 2, 1, 1, 1, 2, 1, 1, 1, 2, 1, 1, 1, 2, 1, 1, 2, 1, 2, 1, 2, 1, 1, 1, 1, 2, 1, 2, 1, 2, 1, 2, 1, 2], \"Freq\": [0.46147396619372355, 0.46147396619372355, 0.7109796253028641, 0.35548981265143204, 0.23400510098424945, 0.7020153029527484, 0.5001164090926612, 0.5001164090926612, 0.5265325597008308, 0.8150116112253513, 0.5875133496298741, 0.39167556641991613, 0.8333888823392482, 0.4166944411696241, 0.7337557281974294, 0.18343893204935735, 0.18343893204935735, 0.7341037330861534, 0.24470124436205112, 0.8809502738866123, 0.7935451695177504, 0.3967725847588752, 0.7224280927413376, 0.28897123709653505, 0.7710821883006941, 0.560151153658988, 0.3734341024393254, 0.6165701104505499, 0.30828505522527494, 0.6952835175102402, 0.17382087937756005, 0.17382087937756005, 0.8300217841350761, 0.20750544603376903, 0.9106904616393889, 0.68867991807136, 0.275471967228544, 0.47363145882093766, 0.788584047771476, 0.26286134925715865, 0.8293732752826574, 0.4146866376413287, 0.4402565163573959, 0.4402565163573959, 0.9008266393068058, 0.4895002984480258, 0.8007750243708215, 0.6885576191569361, 0.2295192063856454, 0.6326548944207895, 0.31632744721039474, 0.11816057464543984, 0.8271240225180789, 0.11816057464543984, 0.5379934230836723, 0.26899671154183613, 0.5681219887756744, 0.5681219887756744, 0.4810408608349453, 0.8463806344480918, 0.5564972619476741, 0.37099817463178275, 0.30647352201782985, 0.7661838050445746, 0.8429537640793235, 0.7956438519833443, 0.2652146173277814, 0.14550292182392274, 0.7275146091196137, 0.14550292182392274, 0.4579147747181166, 0.4579147747181166, 0.5190032613993893, 0.5190032613993893, 0.12975081534984734, 0.22329931921050228, 0.6698979576315068, 0.5649548108495215, 0.20918443443399337, 0.7321455205189769, 0.10459221721699669, 0.26024494324724895, 0.7807348297417469, 0.26991117287026817, 0.8097335186108044, 0.6167559299255874, 0.4111706199503916, 0.2145414996620614, 0.6436244989861842, 0.3641611551237957, 0.3641611551237957, 0.5364670264247831, 0.39015783739984217, 0.04876972967498027, 0.2807071448025121, 0.5614142896050242, 0.2232190073656231, 0.6696570220968694, 0.6394524923252688, 0.3487922685410557, 0.7767713180970234, 0.3883856590485117, 0.486043881791882, 0.933338053778226, 0.767262130655001, 0.7509029848754192, 0.3754514924377096, 0.7940426071322505, 0.8590126191804047, 0.49905314513499455, 0.5631600524353866, 0.42237003932654, 0.49527426198142177, 0.4167281989190272, 0.8334563978380544, 0.8568326445544003, 0.836861742536108, 0.42475274387785766, 0.42475274387785766, 0.5884969543523345, 0.29424847717616726, 0.3287043450401775, 0.657408690080355, 0.32426999999664896, 0.6485399999932979, 0.17348428859995896, 0.6939371543998358, 0.8566161505827854, 0.4329212601755443, 0.4329212601755443, 0.4896033237151989, 0.8250473737521322, 0.813201889704487, 0.5738404846045686, 0.2869202423022843, 0.18549406615331115, 0.7419762646132446, 0.5862650501311133, 0.39741577991518495, 0.52988770655358, 0.04415730887946499, 0.5764348895240098, 0.5764348895240098, 0.5230760771688234, 0.5230760771688234, 0.5899585352117518, 0.2949792676058759, 0.7108336999989717, 0.35541684999948586, 0.73766551160781, 0.8509241317640218, 0.17291723490519817, 0.7781275570733918, 0.08645861745259908, 0.8077343643773011, 0.16411883902287056, 0.8205941951143527, 0.5284232793841981, 0.26421163969209904, 0.5668231801203043, 0.5668231801203043, 0.3413836775948637, 0.6827673551897274, 0.5840893590839535, 0.29204467954197677, 0.14602233977098839, 0.8075351475049811, 0.48078474838184776, 0.5845560993423358, 0.2922780496711679, 0.7148159820980965, 0.17870399552452412, 0.17870399552452412, 0.4792283281412696, 0.8049983834186863, 0.553925660734017, 0.2769628303670085, 0.4898583104194191, 0.16750696031784595, 0.7537813214303067, 0.08375348015892298, 0.8049504851115368, 0.8687717892559226, 0.8513817191621779, 0.387013622747041, 0.774027245494082, 0.6175051478281606, 0.3087525739140803, 0.6777517874440212, 0.4891887858957924, 0.6543006820945186, 0.21810022736483953, 0.30810022759892425, 0.6162004551978485, 0.07478191528309355, 0.8226010681140291, 0.07478191528309355, 0.7972892075040598, 0.15634012173624592, 0.7035305478131068, 0.07817006086812296, 0.41782823067688557, 0.8356564613537711, 0.49763731687124074, 0.39810985349699257, 0.25315983162853495, 0.708847528559898, 0.050631966325707, 0.33233786371386576, 0.6646757274277315, 0.9105123504641705, 0.46806190108253903, 0.7598660256807892, 0.3799330128403946, 0.7685906044637179, 0.7366733100827395, 0.7616108691503138, 0.6836604378777846, 0.3418302189388923, 0.8405014868923545, 0.360733186499169, 0.6012219774986151, 0.5192099896263707, 0.5192099896263707, 0.1993924844840564, 0.5981774534521691, 0.4535641036622084, 0.4535641036622084, 0.8538770858703646, 0.8405412645998581, 0.7544410801010353, 0.10387051559495541, 0.8309641247596433, 0.10387051559495541, 0.6461129823498725, 0.4307419882332483, 0.5977952995036903, 0.39853019966912684, 0.6704786323702648, 0.22349287745675492, 0.8557036595253139, 0.8009558744622085, 0.40047793723110425, 0.8098171682052943, 0.7208685056154847, 0.10730376131131476, 0.8047782098348607, 0.05365188065565738, 0.539972122874115, 0.539972122874115, 0.5128594094257913, 0.5128594094257913, 0.7936613120672872, 0.6108083881788507, 0.3054041940894254, 0.7782815913822122, 0.7624457156092548, 0.4643223536726304, 0.8273207530971816, 0.5668619007613745, 0.37790793384091637, 0.8426988928990861, 0.5534151750838182, 0.3689434500558788, 0.5495429527742679, 0.6763282790126431, 0.7004215462526721, 0.35021077312633603, 0.7877244773994913, 0.7765732278823567, 0.3826087904360016, 0.7652175808720032, 0.6596433012812662, 0.6715378573993258, 0.27258641338147116, 0.8177592401444135, 0.7613291080254121, 0.6678287806125129, 0.33391439030625647, 0.5599079355752226, 0.5599079355752226, 0.8117146390463307, 0.40585731952316534, 0.7089270815790755, 0.8206008764814697, 0.8620868534175279, 0.48847226763694396, 0.48847226763694396, 0.33194803493791075, 0.6638960698758215, 0.5411730122782997, 0.4329384098226398, 0.48933393209471915, 0.48933393209471915, 0.5417718774899569, 0.27088593874497846], \"Term\": [\"Alamos\", \"Alamos\", \"Birmingham\", \"Birmingham\", \"Black\", \"Black\", \"Blue\", \"Blue\", \"Burt\", \"Cheltenham\", \"Chess\", \"Chess\", \"Computer\", \"Computer\", \"Conservatives\", \"Conservatives\", \"Conservatives\", \"David\", \"David\", \"Democrat\", \"Democrats\", \"Democrats\", \"Dreyfus\", \"Dreyfus\", \"Equipment\", \"Hack\", \"Hack\", \"International\", \"International\", \"Labour\", \"Labour\", \"Labour\", \"Liberal\", \"Liberal\", \"Lorely\", \"Mac\", \"Mac\", \"Manchester\", \"Midlands\", \"Midlands\", \"North\", \"North\", \"Northwestern\", \"Northwestern\", \"Pawns\", \"Solihull\", \"UK\", \"UKIP\", \"UKIP\", \"VI\", \"VI\", \"White\", \"White\", \"White\", \"able\", \"able\", \"algebraic\", \"algebraic\", \"area\", \"b3\", \"beat\", \"beat\", \"begin\", \"begin\", \"beginning\", \"bet\", \"bet\", \"bishop\", \"bishop\", \"bishop\", \"black\", \"black\", \"board\", \"board\", \"board\", \"call\", \"call\", \"candidate\", \"capture\", \"capture\", \"capture\", \"castle\", \"castle\", \"century\", \"century\", \"challenge\", \"challenge\", \"check\", \"check\", \"checkmate\", \"checkmate\", \"chess\", \"chess\", \"chess\", \"close\", \"close\", \"colour\", \"colour\", \"computer\", \"computer\", \"constituency\", \"constituency\", \"contest\", \"continue\", \"core\", \"council\", \"council\", \"creep\", \"crosse\", \"day\", \"defeat\", \"defeat\", \"defend\", \"direction\", \"direction\", \"directly\", \"disillusioned\", \"draw\", \"draw\", \"election\", \"election\", \"en\", \"en\", \"end\", \"end\", \"enemy\", \"enemy\", \"entire\", \"example\", \"example\", \"f6\", \"fail\", \"fare\", \"fight\", \"fight\", \"file\", \"file\", \"forward\", \"game\", \"game\", \"game\", \"h7\", \"h7\", \"high\", \"high\", \"human\", \"human\", \"imponderable\", \"imponderable\", \"impressive\", \"initial\", \"king\", \"king\", \"king\", \"knife\", \"knight\", \"knight\", \"know\", \"know\", \"legal\", \"legal\", \"light\", \"light\", \"like\", \"like\", \"like\", \"list\", \"local\", \"long\", \"long\", \"majority\", \"majority\", \"majority\", \"marginal\", \"mass\", \"match\", \"match\", \"mood\", \"move\", \"move\", \"move\", \"mug\", \"new\", \"nobility\", \"notation\", \"notation\", \"number\", \"number\", \"official\", \"opposition\", \"party\", \"party\", \"passant\", \"passant\", \"pawn\", \"pawn\", \"pawn\", \"people\", \"piece\", \"piece\", \"piece\", \"place\", \"place\", \"play\", \"play\", \"player\", \"player\", \"player\", \"point\", \"point\", \"politically\", \"politician\", \"poll\", \"poll\", \"predict\", \"prediction\", \"previous\", \"program\", \"program\", \"prone\", \"queen\", \"queen\", \"question\", \"question\", \"rank\", \"rank\", \"reach\", \"reach\", \"recognize\", \"record\", \"relative\", \"rook\", \"rook\", \"rook\", \"run\", \"run\", \"score\", \"score\", \"seat\", \"seat\", \"shift\", \"simply\", \"simply\", \"simultaneously\", \"sit\", \"square\", \"square\", \"square\", \"start\", \"start\", \"state\", \"state\", \"street\", \"student\", \"student\", \"survival\", \"tank\", \"tell\", \"theory\", \"time\", \"time\", \"today\", \"tournament\", \"tournament\", \"toxic\", \"traditional\", \"turn\", \"turn\", \"underline\", \"understatement\", \"unique\", \"unique\", \"unpredictable\", \"upset\", \"value\", \"value\", \"versus\", \"victory\", \"victory\", \"view\", \"view\", \"vote\", \"vote\", \"wafer\", \"wage\", \"watcher\", \"week\", \"week\", \"white\", \"white\", \"win\", \"win\", \"work\", \"work\", \"year\", \"year\"]}, \"R\": 30, \"lambda.step\": 0.01, \"plot.opts\": {\"xlab\": \"PC1\", \"ylab\": \"PC2\"}, \"topic.order\": [4, 5, 2, 3, 1]};\n",
       "\n",
       "function LDAvis_load_lib(url, callback){\n",
       "  var s = document.createElement('script');\n",
       "  s.src = url;\n",
       "  s.async = true;\n",
       "  s.onreadystatechange = s.onload = callback;\n",
       "  s.onerror = function(){console.warn(\"failed to load library \" + url);};\n",
       "  document.getElementsByTagName(\"head\")[0].appendChild(s);\n",
       "}\n",
       "\n",
       "if(typeof(LDAvis) !== \"undefined\"){\n",
       "   // already loaded: just create the visualization\n",
       "   !function(LDAvis){\n",
       "       new LDAvis(\"#\" + \"ldavis_el690819932537167043554870702\", ldavis_el690819932537167043554870702_data);\n",
       "   }(LDAvis);\n",
       "}else if(typeof define === \"function\" && define.amd){\n",
       "   // require.js is available: use it to load d3/LDAvis\n",
       "   require.config({paths: {d3: \"https://d3js.org/d3.v5\"}});\n",
       "   require([\"d3\"], function(d3){\n",
       "      window.d3 = d3;\n",
       "      LDAvis_load_lib(\"https://cdn.jsdelivr.net/gh/bmabey/pyLDAvis@3.3.1/pyLDAvis/js/ldavis.v3.0.0.js\", function(){\n",
       "        new LDAvis(\"#\" + \"ldavis_el690819932537167043554870702\", ldavis_el690819932537167043554870702_data);\n",
       "      });\n",
       "    });\n",
       "}else{\n",
       "    // require.js not available: dynamically load d3 & LDAvis\n",
       "    LDAvis_load_lib(\"https://d3js.org/d3.v5.js\", function(){\n",
       "         LDAvis_load_lib(\"https://cdn.jsdelivr.net/gh/bmabey/pyLDAvis@3.3.1/pyLDAvis/js/ldavis.v3.0.0.js\", function(){\n",
       "                 new LDAvis(\"#\" + \"ldavis_el690819932537167043554870702\", ldavis_el690819932537167043554870702_data);\n",
       "            })\n",
       "         });\n",
       "}\n",
       "</script>"
      ],
      "text/plain": [
       "PreparedData(topic_coordinates=              x         y  topics  cluster       Freq\n",
       "topic                                                \n",
       "3     -0.037545  0.002992       1        1  49.550491\n",
       "4      0.039333  0.001119       2        1  43.228155\n",
       "1     -0.005181 -0.011688       3        1   7.144244\n",
       "2      0.003273  0.002175       4        1   0.038638\n",
       "0      0.000120  0.005402       5        1   0.038471, topic_info=         Term       Freq      Total Category  logprob  loglift\n",
       "168      game  22.000000  22.000000  Default  30.0000  30.0000\n",
       "82      chess  20.000000  20.000000  Default  29.0000  29.0000\n",
       "238    player  19.000000  19.000000  Default  28.0000  28.0000\n",
       "449  computer  17.000000  17.000000  Default  27.0000  27.0000\n",
       "286    square  18.000000  18.000000  Default  26.0000  26.0000\n",
       "..        ...        ...        ...      ...      ...      ...\n",
       "230      pawn   0.003415  13.372217   Topic5  -5.1855  -0.4097\n",
       "237      play   0.002900  10.047478   Topic5  -5.3489  -0.2873\n",
       "368   Dreyfus   0.002330   6.921104   Topic5  -5.5677  -0.1333\n",
       "254     queen   0.002556   8.316396   Topic5  -5.4751  -0.2244\n",
       "65      board   0.002236   7.707081   Topic5  -5.6092  -0.2823\n",
       "\n",
       "[329 rows x 6 columns], token_table=      Topic      Freq        Term\n",
       "term                             \n",
       "339       1  0.461474      Alamos\n",
       "339       2  0.461474      Alamos\n",
       "536       1  0.710980  Birmingham\n",
       "536       2  0.355490  Birmingham\n",
       "3         1  0.234005       Black\n",
       "...     ...       ...         ...\n",
       "321       2  0.432938         win\n",
       "530       1  0.489334        work\n",
       "530       2  0.489334        work\n",
       "533       1  0.541772        year\n",
       "533       2  0.270886        year\n",
       "\n",
       "[296 rows x 3 columns], R=30, lambda_step=0.01, plot_opts={'xlab': 'PC1', 'ylab': 'PC2'}, topic_order=[4, 5, 2, 3, 1])"
      ]
     },
     "execution_count": 395,
     "metadata": {},
     "output_type": "execute_result"
    }
   ],
   "source": [
    "plot"
   ]
  },
  {
   "cell_type": "code",
   "execution_count": null,
   "id": "cd8a99e7",
   "metadata": {},
   "outputs": [],
   "source": [
    "# Blue part represents the total freq of occurence of the word, red shows the freq of occurence in the selected topic"
   ]
  },
  {
   "cell_type": "code",
   "execution_count": null,
   "id": "04dcc967",
   "metadata": {},
   "outputs": [],
   "source": [
    "# For topic modelling we should have a common topic for analysis"
   ]
  },
  {
   "cell_type": "markdown",
   "id": "b4032ae1",
   "metadata": {},
   "source": [
    "The relevance metric λ in topic modeling refers to a parameter that balances the weighting between the document-specific distribution of topics and the global distribution of topics when estimating the topic-word distributions. A value of λ = 1 prioritizes the document-specific distribution, while a value of λ = 0 prioritizes the global distribution. A value between 0 and 1 allows for a balance between the two."
   ]
  },
  {
   "cell_type": "markdown",
   "id": "85041044",
   "metadata": {},
   "source": [
    "#### Global distribution"
   ]
  },
  {
   "cell_type": "markdown",
   "id": "3a7670ae",
   "metadata": {},
   "source": [
    "In topic modeling, the global distribution refers to the distribution of topics across the entire corpus of documents being analyzed. It represents the frequency of each topic in the overall collection of documents, and is used in conjunction with the document-specific distribution of topics to estimate the probability of a given word being associated with a given topic. The global distribution is important for providing context and helping to identify which topics are most prominent across the entire corpus."
   ]
  },
  {
   "cell_type": "markdown",
   "id": "1e0741b4",
   "metadata": {},
   "source": [
    "##### Document specific distribution"
   ]
  },
  {
   "cell_type": "markdown",
   "id": "98e25334",
   "metadata": {},
   "source": [
    "In topic modeling, the document-specific distribution refers to the distribution of topics within a particular document. It represents the probability of each topic being present in that specific document, and is used in conjunction with the global distribution of topics to estimate the probability of a given word being associated with a given topic. The document-specific distribution is important because it captures the unique topics and themes present within a specific document, allowing for more precise and nuanced modeling of the underlying topics within the corpus."
   ]
  },
  {
   "cell_type": "code",
   "execution_count": null,
   "id": "f409791c",
   "metadata": {},
   "outputs": [],
   "source": []
  },
  {
   "cell_type": "code",
   "execution_count": null,
   "id": "1f3b687c",
   "metadata": {},
   "outputs": [],
   "source": []
  }
 ],
 "metadata": {
  "kernelspec": {
   "display_name": "Python 3 (ipykernel)",
   "language": "python",
   "name": "python3"
  },
  "language_info": {
   "codemirror_mode": {
    "name": "ipython",
    "version": 3
   },
   "file_extension": ".py",
   "mimetype": "text/x-python",
   "name": "python",
   "nbconvert_exporter": "python",
   "pygments_lexer": "ipython3",
   "version": "3.9.13"
  }
 },
 "nbformat": 4,
 "nbformat_minor": 5
}
